{
  "nbformat": 4,
  "nbformat_minor": 0,
  "metadata": {
    "colab": {
      "name": "PyTorch_DGAN_example.ipynb",
      "provenance": [],
      "authorship_tag": "ABX9TyMVkBSQMMJY3D5eh7Wsw5/b",
      "include_colab_link": true
    },
    "kernelspec": {
      "name": "python3",
      "display_name": "Python 3"
    }
  },
  "cells": [
    {
      "cell_type": "markdown",
      "metadata": {
        "id": "view-in-github",
        "colab_type": "text"
      },
      "source": [
        "<a href=\"https://colab.research.google.com/github/Gooogr/Brain2Image/blob/master/sub_notebooks/PyTorch_DGAN_example.ipynb\" target=\"_parent\"><img src=\"https://colab.research.google.com/assets/colab-badge.svg\" alt=\"Open In Colab\"/></a>"
      ]
    },
    {
      "cell_type": "markdown",
      "metadata": {
        "id": "MHokviN9tmAi",
        "colab_type": "text"
      },
      "source": [
        "Based on: <br>\n",
        "https://pytorch.org/tutorials/beginner/dcgan_faces_tutorial.html<br>\n",
        "https://github.com/nashory/gans-awesome-applications"
      ]
    },
    {
      "cell_type": "code",
      "metadata": {
        "id": "gSwTmRsMttFn",
        "colab_type": "code",
        "colab": {}
      },
      "source": [
        ""
      ],
      "execution_count": null,
      "outputs": []
    }
  ]
}