{
  "nbformat": 4,
  "nbformat_minor": 0,
  "metadata": {
    "colab": {
      "name": "Brain_MNIST_linear_models.ipynb",
      "provenance": [],
      "collapsed_sections": [],
      "include_colab_link": true
    },
    "kernelspec": {
      "name": "python3",
      "display_name": "Python 3"
    }
  },
  "cells": [
    {
      "cell_type": "markdown",
      "metadata": {
        "id": "view-in-github",
        "colab_type": "text"
      },
      "source": [
        "<a href=\"https://colab.research.google.com/github/Gooogr/Brain2Image/blob/master/sub_notebooks/Brain_MNIST_sklearn_models.ipynb\" target=\"_parent\"><img src=\"https://colab.research.google.com/assets/colab-badge.svg\" alt=\"Open In Colab\"/></a>"
      ]
    },
    {
      "cell_type": "markdown",
      "metadata": {
        "id": "FQYla7FxIgqm"
      },
      "source": [
        "Linear EEG signals classifier based on MindBigData dataset MNIST of the brain: http://mindbigdata.com/opendb/index.html <br>\n"
      ]
    },
    {
      "cell_type": "code",
      "metadata": {
        "id": "oX3L1XUaV6mC"
      },
      "source": [
        "# Imports\n",
        "import sys\n",
        "import os\n",
        "import gc\n",
        "import random\n",
        "import math\n",
        "import matplotlib.pyplot as plt\n",
        "import seaborn as sns\n",
        "import time\n",
        "# import torch; torch.utils.backcompat.broadcast_warning.enabled = True\n",
        "# from torch.utils.data import DataLoader\n",
        "# from torchvision import transforms, datasets\n",
        "# import torch.nn as nn\n",
        "# import torch.nn.functional as F\n",
        "# import torch.optim\n",
        "# import torch.backends.cudnn as cudnn; cudnn.benchmark = True\n",
        "# from scipy.fftpack import fft, rfft, fftfreq, irfft, ifft, rfftfreq\n",
        "import numpy as np\n",
        "\n",
        "import pandas as pd\n",
        "pd.set_option('display.max_colwidth', 100)\n",
        "import ast\n",
        "\n",
        "from sklearn.preprocessing import MinMaxScaler\n",
        "from sklearn.model_selection import train_test_split"
      ],
      "execution_count": 57,
      "outputs": []
    },
    {
      "cell_type": "code",
      "metadata": {
        "id": "uKUSg7LclwEK"
      },
      "source": [
        "# ! nvidia-smi"
      ],
      "execution_count": 9,
      "outputs": []
    },
    {
      "cell_type": "code",
      "metadata": {
        "id": "Yg9R-CwVSY4_"
      },
      "source": [
        "# from google.colab import drive\n",
        "# drive.mount(\"/content/drive\", force_remount=True)\n",
        "# ! ln -s \"/content/drive/My Drive\" \"/content/mydrive\""
      ],
      "execution_count": 10,
      "outputs": []
    },
    {
      "cell_type": "code",
      "metadata": {
        "id": "_KH7owS9J6xs"
      },
      "source": [
        "# SAVE_PATH = '/content/mydrive/EEG2Image_research/models/vanila_lstm_classifier.pth'\n",
        "# CHKPT_FOLDER = '/content/mydrive/EEG2Image_research/models/chkpt/'\n",
        "\n",
        "# FILTERING = True       # Default - True, filter raw data\n",
        "# CHECKPOINT_NAME = None # Default - None, specify checkpoint path for model training\n",
        "\n",
        "# # SPLIT_NUM = 0          # Default - 0, split number\n",
        "# BATCH_SIZE = 16        # Default - 16, batch size\n",
        "# NO_CUDA = False        # Default - False, disable CUDA computation\n",
        "\n",
        "# EPOCHS = 3000           # Default - 300, traning epochs number\n",
        "\n",
        "# LSTM_SIZE = 128        # Default - 128, LSTM hidden size\n",
        "# LSTM_LAYERS = 1        # Default - 1,  LSTM layers \n",
        "# EMBEDDING_SIZE = 128   # Default - 128, embedding size\n",
        "# NUM_CLASSES = 10       # Default - 10, MNIST 0 - 9\n",
        "# OPTIM_NAME = 'Adam'    # Default - Adam, optimizer type\n",
        "# LR = 0.01             # Default - 0.001, learning rate \n",
        "\n",
        "# LR_DECAY_FACTOR = 0.1  # Default - 0.5, learning rate decay factor, for SGD only\n",
        "# LR_DECAY_PERIOD = 10000   # Default - 10  learning rate decay period, for SGD only"
      ],
      "execution_count": 11,
      "outputs": []
    },
    {
      "cell_type": "markdown",
      "metadata": {
        "id": "_MY4GxCIIdPa"
      },
      "source": [
        "### Data preparations"
      ]
    },
    {
      "cell_type": "code",
      "metadata": {
        "id": "GhOJb-jBLwkp"
      },
      "source": [
        "def get_dataset(dataset_name):\n",
        "    try:\n",
        "        if dataset_name == 'MNIST':\n",
        "            ! wget -q https://datahub.io/DavidVivancos/mindbigdata-ep-v1.0-bitter-chipmunk-96/r/mindbigdata-ep-v1.0.zip?v=1 \\\n",
        "                -O dataset.zip\n",
        "            ! unzip -q dataset.zip\n",
        "        if dataset_name == 'Imagenet':\n",
        "            pass\n",
        "    except:\n",
        "        raise ValueError('Specify type of dataset: MNIST or Imagenet')    "
      ],
      "execution_count": 12,
      "outputs": []
    },
    {
      "cell_type": "markdown",
      "metadata": {
        "id": "3Vuuj6uvWH_T"
      },
      "source": [
        " FILE FORMAT:\n",
        "\n",
        "The data is stored in a very simple text format including:\n",
        "\n",
        "[id]: a numeric, only for reference purposes.\n",
        "\n",
        "[event] id, a integer, used to distinguish the same event captured at different brain locations, used only by multichannel devices (all except MW).\n",
        "\n",
        "[device]: a 2 character string, to identify the device used to capture the signals, \"MW\" for MindWave, \"EP\" for Emotive Epoc, \"MU\" for Interaxon Muse & \"IN\" for Emotiv Insight.\n",
        "\n",
        "[channel]: a string, to indentify the 10/20 brain location of the signal, with possible values:\n",
        " \n",
        "\tMindWave \t\"FP1\"\n",
        "\tEPOC \t\"AF3, \"F7\", \"F3\", \"FC5\", \"T7\", \"P7\", \"O1\", \"O2\", \"P8\", \"T8\", \"FC6\", \"F4\", \"F8\", \"AF4\"\n",
        "\tMuse \t\"TP9,\"FP1\",\"FP2\", \"TP10\"\n",
        "\tInsight \t\"AF3,\"AF4\",\"T7\",\"T8\",\"PZ\" \n",
        "\n",
        "[code]: a integer, to indentify the digit been thought/seen, with possible values 0,1,2,3,4,5,6,7,8,9 or -1 for random captured signals not related to any of the digits.\n",
        "\n",
        "[size]: a integer, to identify the size in number of values captured in the 2 seconds of this signal, since the Hz of each device varies, in \"theory\" the value is close to 512Hz for MW, 128Hz for EP, 220Hz for MU & 128Hz for IN, for each of the 2 seconds.\n",
        "\n",
        "[data]: a coma separated set of numbers, with the time-series amplitude of the signal, each device uses a different precision to identify the electrical potential captured from the brain: integers in the case of MW & MU or real numbers in the case of EP & IN. "
      ]
    },
    {
      "cell_type": "code",
      "metadata": {
        "id": "sT2mYlFFNw2-",
        "outputId": "d89388f0-c4f4-4647-94b8-b83323f3a9c3",
        "colab": {
          "base_uri": "https://localhost:8080/"
        }
      },
      "source": [
        "get_dataset('MNIST')"
      ],
      "execution_count": 13,
      "outputs": [
        {
          "output_type": "stream",
          "text": [
            "replace EP1.01.txt? [y]es, [n]o, [A]ll, [N]one, [r]ename: y\n"
          ],
          "name": "stdout"
        }
      ]
    },
    {
      "cell_type": "code",
      "metadata": {
        "id": "moZDov35AFNe"
      },
      "source": [
        "def txt2float(s):\n",
        "    '''\n",
        "    Convert text string to numpy array with float32 dtype.\n",
        "    '''\n",
        "    row = list(ast.literal_eval(s))\n",
        "    result = np.array(row, dtype=np.float32)\n",
        "    return result"
      ],
      "execution_count": 14,
      "outputs": []
    },
    {
      "cell_type": "code",
      "metadata": {
        "id": "cEfY3UimWdXQ",
        "outputId": "0e9c9051-ad91-47bc-bf85-98efdf394e5c",
        "colab": {
          "base_uri": "https://localhost:8080/"
        }
      },
      "source": [
        "%%time \n",
        "column_names = ['id', 'event', 'device', 'channel', 'code', 'size', 'data']\n",
        "df = pd.read_table('./EP1.01.txt', names=column_names) #delim_whitespace=True, \n",
        "print('Shape of the dataset:', df.shape)\n",
        "df.data = df.data.apply(txt2float)"
      ],
      "execution_count": 15,
      "outputs": [
        {
          "output_type": "stream",
          "text": [
            "Shape of the dataset: (910476, 7)\n",
            "CPU times: user 6min 38s, sys: 19 s, total: 6min 57s\n",
            "Wall time: 6min 57s\n"
          ],
          "name": "stdout"
        }
      ]
    },
    {
      "cell_type": "code",
      "metadata": {
        "id": "yZ4jqD60GSPG",
        "outputId": "b2942547-50df-47cc-838e-d49540c815c2",
        "colab": {
          "base_uri": "https://localhost:8080/"
        }
      },
      "source": [
        "gc.collect()"
      ],
      "execution_count": 16,
      "outputs": [
        {
          "output_type": "execute_result",
          "data": {
            "text/plain": [
              "558"
            ]
          },
          "metadata": {
            "tags": []
          },
          "execution_count": 16
        }
      ]
    },
    {
      "cell_type": "code",
      "metadata": {
        "id": "xq6jFP8-n_RW"
      },
      "source": [
        ""
      ],
      "execution_count": 55,
      "outputs": []
    },
    {
      "cell_type": "code",
      "metadata": {
        "id": "fJoowm3KY950",
        "outputId": "b3c34a31-6aa6-4d85-9d83-2b1f89f92fd1",
        "colab": {
          "base_uri": "https://localhost:8080/",
          "height": 520
        }
      },
      "source": [
        "df.head(15)"
      ],
      "execution_count": 56,
      "outputs": [
        {
          "output_type": "execute_result",
          "data": {
            "text/html": [
              "<div>\n",
              "<style scoped>\n",
              "    .dataframe tbody tr th:only-of-type {\n",
              "        vertical-align: middle;\n",
              "    }\n",
              "\n",
              "    .dataframe tbody tr th {\n",
              "        vertical-align: top;\n",
              "    }\n",
              "\n",
              "    .dataframe thead th {\n",
              "        text-align: right;\n",
              "    }\n",
              "</style>\n",
              "<table border=\"1\" class=\"dataframe\">\n",
              "  <thead>\n",
              "    <tr style=\"text-align: right;\">\n",
              "      <th></th>\n",
              "      <th>id</th>\n",
              "      <th>event</th>\n",
              "      <th>device</th>\n",
              "      <th>channel</th>\n",
              "      <th>code</th>\n",
              "      <th>size</th>\n",
              "      <th>data</th>\n",
              "    </tr>\n",
              "  </thead>\n",
              "  <tbody>\n",
              "    <tr>\n",
              "      <th>0</th>\n",
              "      <td>67635</td>\n",
              "      <td>67635</td>\n",
              "      <td>EP</td>\n",
              "      <td>AF3</td>\n",
              "      <td>6</td>\n",
              "      <td>260</td>\n",
              "      <td>[4395.385, 4382.564, 4377.436, 4387.1797, 4395.8975, 4398.4614, 4396.923, 4391.795, 4391.282, 43...</td>\n",
              "    </tr>\n",
              "    <tr>\n",
              "      <th>1</th>\n",
              "      <td>67636</td>\n",
              "      <td>67635</td>\n",
              "      <td>EP</td>\n",
              "      <td>F7</td>\n",
              "      <td>6</td>\n",
              "      <td>260</td>\n",
              "      <td>[4489.231, 4475.385, 4474.359, 4486.6665, 4498.974, 4496.41, 4486.6665, 4489.7437, 4498.4614, 45...</td>\n",
              "    </tr>\n",
              "    <tr>\n",
              "      <th>2</th>\n",
              "      <td>67637</td>\n",
              "      <td>67635</td>\n",
              "      <td>EP</td>\n",
              "      <td>F3</td>\n",
              "      <td>6</td>\n",
              "      <td>260</td>\n",
              "      <td>[4538.4614, 4528.718, 4524.615, 4526.154, 4532.3076, 4538.4614, 4535.385, 4528.205, 4528.718, 45...</td>\n",
              "    </tr>\n",
              "    <tr>\n",
              "      <th>3</th>\n",
              "      <td>67638</td>\n",
              "      <td>67635</td>\n",
              "      <td>EP</td>\n",
              "      <td>FC5</td>\n",
              "      <td>6</td>\n",
              "      <td>260</td>\n",
              "      <td>[4207.6924, 4205.641, 4200.5127, 4194.359, 4198.4614, 4213.846, 4219.4873, 4210.769, 4202.564, 4...</td>\n",
              "    </tr>\n",
              "    <tr>\n",
              "      <th>4</th>\n",
              "      <td>67639</td>\n",
              "      <td>67635</td>\n",
              "      <td>EP</td>\n",
              "      <td>T7</td>\n",
              "      <td>6</td>\n",
              "      <td>260</td>\n",
              "      <td>[4497.9487, 4498.4614, 4494.8716, 4497.9487, 4506.154, 4508.205, 4501.5386, 4497.436, 4498.4614,...</td>\n",
              "    </tr>\n",
              "    <tr>\n",
              "      <th>5</th>\n",
              "      <td>67640</td>\n",
              "      <td>67635</td>\n",
              "      <td>EP</td>\n",
              "      <td>P7</td>\n",
              "      <td>6</td>\n",
              "      <td>260</td>\n",
              "      <td>[4203.077, 4192.8203, 4194.8716, 4204.615, 4208.205, 4207.6924, 4208.205, 4206.154, 4202.564, 42...</td>\n",
              "    </tr>\n",
              "    <tr>\n",
              "      <th>6</th>\n",
              "      <td>67641</td>\n",
              "      <td>67635</td>\n",
              "      <td>EP</td>\n",
              "      <td>O1</td>\n",
              "      <td>6</td>\n",
              "      <td>260</td>\n",
              "      <td>[4203.077, 4193.3335, 4194.8716, 4207.1797, 4220.5127, 4222.564, 4217.436, 4212.3076, 4210.2563,...</td>\n",
              "    </tr>\n",
              "    <tr>\n",
              "      <th>7</th>\n",
              "      <td>67642</td>\n",
              "      <td>67635</td>\n",
              "      <td>EP</td>\n",
              "      <td>O2</td>\n",
              "      <td>6</td>\n",
              "      <td>260</td>\n",
              "      <td>[4229.7437, 4216.923, 4207.1797, 4215.385, 4234.8716, 4238.974, 4230.769, 4222.564, 4215.385, 42...</td>\n",
              "    </tr>\n",
              "    <tr>\n",
              "      <th>8</th>\n",
              "      <td>67643</td>\n",
              "      <td>67635</td>\n",
              "      <td>EP</td>\n",
              "      <td>P8</td>\n",
              "      <td>6</td>\n",
              "      <td>260</td>\n",
              "      <td>[4245.641, 4236.41, 4218.4614, 4220.0, 4239.4873, 4246.154, 4244.1025, 4242.564, 4231.282, 4225....</td>\n",
              "    </tr>\n",
              "    <tr>\n",
              "      <th>9</th>\n",
              "      <td>67644</td>\n",
              "      <td>67635</td>\n",
              "      <td>EP</td>\n",
              "      <td>T8</td>\n",
              "      <td>6</td>\n",
              "      <td>260</td>\n",
              "      <td>[4506.6665, 4501.026, 4496.923, 4496.923, 4504.1025, 4514.359, 4519.4873, 4511.795, 4498.4614, 4...</td>\n",
              "    </tr>\n",
              "    <tr>\n",
              "      <th>10</th>\n",
              "      <td>67645</td>\n",
              "      <td>67635</td>\n",
              "      <td>EP</td>\n",
              "      <td>FC6</td>\n",
              "      <td>6</td>\n",
              "      <td>260</td>\n",
              "      <td>[4227.6924, 4215.385, 4210.769, 4221.026, 4228.205, 4229.231, 4229.7437, 4227.6924, 4222.0513, 4...</td>\n",
              "    </tr>\n",
              "    <tr>\n",
              "      <th>11</th>\n",
              "      <td>67646</td>\n",
              "      <td>67635</td>\n",
              "      <td>EP</td>\n",
              "      <td>F4</td>\n",
              "      <td>6</td>\n",
              "      <td>260</td>\n",
              "      <td>[4682.0513, 4667.1797, 4662.0513, 4669.231, 4676.41, 4680.0, 4676.923, 4669.231, 4665.641, 4667....</td>\n",
              "    </tr>\n",
              "    <tr>\n",
              "      <th>12</th>\n",
              "      <td>67647</td>\n",
              "      <td>67635</td>\n",
              "      <td>EP</td>\n",
              "      <td>F8</td>\n",
              "      <td>6</td>\n",
              "      <td>260</td>\n",
              "      <td>[3989.2307, 3983.5898, 3987.6924, 3991.795, 3992.3076, 3990.2563, 3993.3333, 4000.0, 3994.8718, ...</td>\n",
              "    </tr>\n",
              "    <tr>\n",
              "      <th>13</th>\n",
              "      <td>67648</td>\n",
              "      <td>67635</td>\n",
              "      <td>EP</td>\n",
              "      <td>AF4</td>\n",
              "      <td>6</td>\n",
              "      <td>260</td>\n",
              "      <td>[4078.4614, 4062.5642, 4055.8975, 4065.641, 4075.3845, 4074.359, 4070.7693, 4073.3333, 4072.3076...</td>\n",
              "    </tr>\n",
              "    <tr>\n",
              "      <th>14</th>\n",
              "      <td>67649</td>\n",
              "      <td>67636</td>\n",
              "      <td>EP</td>\n",
              "      <td>AF3</td>\n",
              "      <td>7</td>\n",
              "      <td>260</td>\n",
              "      <td>[4385.641, 4381.5386, 4386.6665, 4383.59, 4374.359, 4378.974, 4389.7437, 4388.205, 4381.5386, 43...</td>\n",
              "    </tr>\n",
              "  </tbody>\n",
              "</table>\n",
              "</div>"
            ],
            "text/plain": [
              "       id  ...                                                                                                 data\n",
              "0   67635  ...  [4395.385, 4382.564, 4377.436, 4387.1797, 4395.8975, 4398.4614, 4396.923, 4391.795, 4391.282, 43...\n",
              "1   67636  ...  [4489.231, 4475.385, 4474.359, 4486.6665, 4498.974, 4496.41, 4486.6665, 4489.7437, 4498.4614, 45...\n",
              "2   67637  ...  [4538.4614, 4528.718, 4524.615, 4526.154, 4532.3076, 4538.4614, 4535.385, 4528.205, 4528.718, 45...\n",
              "3   67638  ...  [4207.6924, 4205.641, 4200.5127, 4194.359, 4198.4614, 4213.846, 4219.4873, 4210.769, 4202.564, 4...\n",
              "4   67639  ...  [4497.9487, 4498.4614, 4494.8716, 4497.9487, 4506.154, 4508.205, 4501.5386, 4497.436, 4498.4614,...\n",
              "5   67640  ...  [4203.077, 4192.8203, 4194.8716, 4204.615, 4208.205, 4207.6924, 4208.205, 4206.154, 4202.564, 42...\n",
              "6   67641  ...  [4203.077, 4193.3335, 4194.8716, 4207.1797, 4220.5127, 4222.564, 4217.436, 4212.3076, 4210.2563,...\n",
              "7   67642  ...  [4229.7437, 4216.923, 4207.1797, 4215.385, 4234.8716, 4238.974, 4230.769, 4222.564, 4215.385, 42...\n",
              "8   67643  ...  [4245.641, 4236.41, 4218.4614, 4220.0, 4239.4873, 4246.154, 4244.1025, 4242.564, 4231.282, 4225....\n",
              "9   67644  ...  [4506.6665, 4501.026, 4496.923, 4496.923, 4504.1025, 4514.359, 4519.4873, 4511.795, 4498.4614, 4...\n",
              "10  67645  ...  [4227.6924, 4215.385, 4210.769, 4221.026, 4228.205, 4229.231, 4229.7437, 4227.6924, 4222.0513, 4...\n",
              "11  67646  ...  [4682.0513, 4667.1797, 4662.0513, 4669.231, 4676.41, 4680.0, 4676.923, 4669.231, 4665.641, 4667....\n",
              "12  67647  ...  [3989.2307, 3983.5898, 3987.6924, 3991.795, 3992.3076, 3990.2563, 3993.3333, 4000.0, 3994.8718, ...\n",
              "13  67648  ...  [4078.4614, 4062.5642, 4055.8975, 4065.641, 4075.3845, 4074.359, 4070.7693, 4073.3333, 4072.3076...\n",
              "14  67649  ...  [4385.641, 4381.5386, 4386.6665, 4383.59, 4374.359, 4378.974, 4389.7437, 4388.205, 4381.5386, 43...\n",
              "\n",
              "[15 rows x 7 columns]"
            ]
          },
          "metadata": {
            "tags": []
          },
          "execution_count": 56
        }
      ]
    },
    {
      "cell_type": "code",
      "metadata": {
        "id": "v9-yEwInnMkR",
        "outputId": "47784922-7c66-44c3-f0cb-0176b686e6dd",
        "colab": {
          "base_uri": "https://localhost:8080/"
        }
      },
      "source": [
        "print('Channels amount:', df.groupby(['event']).agg({'channel': 'nunique'})['channel'].unique())"
      ],
      "execution_count": 18,
      "outputs": [
        {
          "output_type": "stream",
          "text": [
            "Channels amount: [14]\n"
          ],
          "name": "stdout"
        }
      ]
    },
    {
      "cell_type": "code",
      "metadata": {
        "id": "3kMupcl5_23E",
        "outputId": "a78228eb-f330-4d84-c9e6-0eca20e7c1d1",
        "colab": {
          "base_uri": "https://localhost:8080/",
          "height": 35
        }
      },
      "source": [
        "f\"Number of unique events (measurements): {len(df['event'].unique())}\""
      ],
      "execution_count": 19,
      "outputs": [
        {
          "output_type": "execute_result",
          "data": {
            "application/vnd.google.colaboratory.intrinsic+json": {
              "type": "string"
            },
            "text/plain": [
              "'Number of unique events (measurements): 65034'"
            ]
          },
          "metadata": {
            "tags": []
          },
          "execution_count": 19
        }
      ]
    },
    {
      "cell_type": "markdown",
      "metadata": {
        "id": "qJVSNWgboFU2"
      },
      "source": [
        "Every event has 14 channels"
      ]
    },
    {
      "cell_type": "code",
      "metadata": {
        "id": "tW0RRe8goY1u"
      },
      "source": [
        "# random_event = np.random.choice(df.event.unique())\n",
        "# data_sample = df[df['event'] == 67635]\n",
        "# fig = plt.figure(figsize=(15, 5))\n",
        "# for row in data_sample['data']:\n",
        "#     plt.plot(row)\n",
        "# plt.title('Random EGG signal based on 14 Emotive EPOC sensors (event №{})'.format(random_event))    \n",
        "# plt.show()     "
      ],
      "execution_count": 20,
      "outputs": []
    },
    {
      "cell_type": "code",
      "metadata": {
        "id": "39vU-jmBSeQM",
        "outputId": "55f28017-4f6d-4c48-ffef-226316aaee29",
        "colab": {
          "base_uri": "https://localhost:8080/",
          "height": 336
        }
      },
      "source": [
        "data_sample = df[df['event'] == 67635]\n",
        "fig = plt.figure(figsize=(15, 5))\n",
        "for row in data_sample['data']:\n",
        "    plt.plot(row)\n",
        "plt.title('EGG signal based on 14 Emotive EPOC sensors (event № 67635)')    \n",
        "plt.show()  "
      ],
      "execution_count": 21,
      "outputs": [
        {
          "output_type": "display_data",
          "data": {
            "image/png": "[encoded data removed]",
            "text/plain": [
              "<Figure size 1080x360 with 1 Axes>"
            ]
          },
          "metadata": {
            "tags": [],
            "needs_background": "light"
          }
        }
      ]
    },
    {
      "cell_type": "code",
      "metadata": {
        "id": "MXeqvedVQRiw",
        "outputId": "9c840f04-bebc-461e-ee9f-e01b62972be8",
        "colab": {
          "base_uri": "https://localhost:8080/"
        }
      },
      "source": [
        "np.all(df['size'].values == 260)"
      ],
      "execution_count": 22,
      "outputs": [
        {
          "output_type": "execute_result",
          "data": {
            "text/plain": [
              "False"
            ]
          },
          "metadata": {
            "tags": []
          },
          "execution_count": 22
        }
      ]
    },
    {
      "cell_type": "code",
      "metadata": {
        "id": "uGALDOujEUiF",
        "outputId": "e6e2b3f1-cb63-400f-e109-8cf86202db2f",
        "colab": {
          "base_uri": "https://localhost:8080/"
        }
      },
      "source": [
        "df['size'].value_counts().head(10)"
      ],
      "execution_count": 23,
      "outputs": [
        {
          "output_type": "execute_result",
          "data": {
            "text/plain": [
              "260    606214\n",
              "256    173614\n",
              "264     61586\n",
              "261     44072\n",
              "257     12362\n",
              "252      4956\n",
              "265      3640\n",
              "268      2884\n",
              "253       294\n",
              "272       196\n",
              "Name: size, dtype: int64"
            ]
          },
          "metadata": {
            "tags": []
          },
          "execution_count": 23
        }
      ]
    },
    {
      "cell_type": "markdown",
      "metadata": {
        "id": "yZxLFL0nEm07"
      },
      "source": [
        "Filter values signal length. We need events with length equal to 260."
      ]
    },
    {
      "cell_type": "code",
      "metadata": {
        "id": "4JJUYRJDE3V8"
      },
      "source": [
        "# Find events with 260 length\n",
        "clear_grouping = df[df['size'] == 260].groupby('event').agg({'id':'nunique'})\n",
        "# Save only complete events with 14 channels (sanity check)\n",
        "correct_events = clear_grouping[clear_grouping['id'] == 14].index\n",
        "# Filter data\n",
        "filtered_df = df[df['event'].isin(correct_events)]"
      ],
      "execution_count": 24,
      "outputs": []
    },
    {
      "cell_type": "code",
      "metadata": {
        "id": "A5BA59meF8ya",
        "outputId": "05b4f534-da0f-4300-c6e1-a6f9f0a73422",
        "colab": {
          "base_uri": "https://localhost:8080/",
          "height": 677
        }
      },
      "source": [
        "filtered_df.head(20)"
      ],
      "execution_count": 58,
      "outputs": [
        {
          "output_type": "execute_result",
          "data": {
            "text/html": [
              "<div>\n",
              "<style scoped>\n",
              "    .dataframe tbody tr th:only-of-type {\n",
              "        vertical-align: middle;\n",
              "    }\n",
              "\n",
              "    .dataframe tbody tr th {\n",
              "        vertical-align: top;\n",
              "    }\n",
              "\n",
              "    .dataframe thead th {\n",
              "        text-align: right;\n",
              "    }\n",
              "</style>\n",
              "<table border=\"1\" class=\"dataframe\">\n",
              "  <thead>\n",
              "    <tr style=\"text-align: right;\">\n",
              "      <th></th>\n",
              "      <th>id</th>\n",
              "      <th>event</th>\n",
              "      <th>device</th>\n",
              "      <th>channel</th>\n",
              "      <th>code</th>\n",
              "      <th>size</th>\n",
              "      <th>data</th>\n",
              "    </tr>\n",
              "  </thead>\n",
              "  <tbody>\n",
              "    <tr>\n",
              "      <th>0</th>\n",
              "      <td>67635</td>\n",
              "      <td>67635</td>\n",
              "      <td>EP</td>\n",
              "      <td>AF3</td>\n",
              "      <td>6</td>\n",
              "      <td>260</td>\n",
              "      <td>[4395.385, 4382.564, 4377.436, 4387.1797, 4395.8975, 4398.4614, 4396.923, 4391.795, 4391.282, 43...</td>\n",
              "    </tr>\n",
              "    <tr>\n",
              "      <th>1</th>\n",
              "      <td>67636</td>\n",
              "      <td>67635</td>\n",
              "      <td>EP</td>\n",
              "      <td>F7</td>\n",
              "      <td>6</td>\n",
              "      <td>260</td>\n",
              "      <td>[4489.231, 4475.385, 4474.359, 4486.6665, 4498.974, 4496.41, 4486.6665, 4489.7437, 4498.4614, 45...</td>\n",
              "    </tr>\n",
              "    <tr>\n",
              "      <th>2</th>\n",
              "      <td>67637</td>\n",
              "      <td>67635</td>\n",
              "      <td>EP</td>\n",
              "      <td>F3</td>\n",
              "      <td>6</td>\n",
              "      <td>260</td>\n",
              "      <td>[4538.4614, 4528.718, 4524.615, 4526.154, 4532.3076, 4538.4614, 4535.385, 4528.205, 4528.718, 45...</td>\n",
              "    </tr>\n",
              "    <tr>\n",
              "      <th>3</th>\n",
              "      <td>67638</td>\n",
              "      <td>67635</td>\n",
              "      <td>EP</td>\n",
              "      <td>FC5</td>\n",
              "      <td>6</td>\n",
              "      <td>260</td>\n",
              "      <td>[4207.6924, 4205.641, 4200.5127, 4194.359, 4198.4614, 4213.846, 4219.4873, 4210.769, 4202.564, 4...</td>\n",
              "    </tr>\n",
              "    <tr>\n",
              "      <th>4</th>\n",
              "      <td>67639</td>\n",
              "      <td>67635</td>\n",
              "      <td>EP</td>\n",
              "      <td>T7</td>\n",
              "      <td>6</td>\n",
              "      <td>260</td>\n",
              "      <td>[4497.9487, 4498.4614, 4494.8716, 4497.9487, 4506.154, 4508.205, 4501.5386, 4497.436, 4498.4614,...</td>\n",
              "    </tr>\n",
              "    <tr>\n",
              "      <th>5</th>\n",
              "      <td>67640</td>\n",
              "      <td>67635</td>\n",
              "      <td>EP</td>\n",
              "      <td>P7</td>\n",
              "      <td>6</td>\n",
              "      <td>260</td>\n",
              "      <td>[4203.077, 4192.8203, 4194.8716, 4204.615, 4208.205, 4207.6924, 4208.205, 4206.154, 4202.564, 42...</td>\n",
              "    </tr>\n",
              "    <tr>\n",
              "      <th>6</th>\n",
              "      <td>67641</td>\n",
              "      <td>67635</td>\n",
              "      <td>EP</td>\n",
              "      <td>O1</td>\n",
              "      <td>6</td>\n",
              "      <td>260</td>\n",
              "      <td>[4203.077, 4193.3335, 4194.8716, 4207.1797, 4220.5127, 4222.564, 4217.436, 4212.3076, 4210.2563,...</td>\n",
              "    </tr>\n",
              "    <tr>\n",
              "      <th>7</th>\n",
              "      <td>67642</td>\n",
              "      <td>67635</td>\n",
              "      <td>EP</td>\n",
              "      <td>O2</td>\n",
              "      <td>6</td>\n",
              "      <td>260</td>\n",
              "      <td>[4229.7437, 4216.923, 4207.1797, 4215.385, 4234.8716, 4238.974, 4230.769, 4222.564, 4215.385, 42...</td>\n",
              "    </tr>\n",
              "    <tr>\n",
              "      <th>8</th>\n",
              "      <td>67643</td>\n",
              "      <td>67635</td>\n",
              "      <td>EP</td>\n",
              "      <td>P8</td>\n",
              "      <td>6</td>\n",
              "      <td>260</td>\n",
              "      <td>[4245.641, 4236.41, 4218.4614, 4220.0, 4239.4873, 4246.154, 4244.1025, 4242.564, 4231.282, 4225....</td>\n",
              "    </tr>\n",
              "    <tr>\n",
              "      <th>9</th>\n",
              "      <td>67644</td>\n",
              "      <td>67635</td>\n",
              "      <td>EP</td>\n",
              "      <td>T8</td>\n",
              "      <td>6</td>\n",
              "      <td>260</td>\n",
              "      <td>[4506.6665, 4501.026, 4496.923, 4496.923, 4504.1025, 4514.359, 4519.4873, 4511.795, 4498.4614, 4...</td>\n",
              "    </tr>\n",
              "    <tr>\n",
              "      <th>10</th>\n",
              "      <td>67645</td>\n",
              "      <td>67635</td>\n",
              "      <td>EP</td>\n",
              "      <td>FC6</td>\n",
              "      <td>6</td>\n",
              "      <td>260</td>\n",
              "      <td>[4227.6924, 4215.385, 4210.769, 4221.026, 4228.205, 4229.231, 4229.7437, 4227.6924, 4222.0513, 4...</td>\n",
              "    </tr>\n",
              "    <tr>\n",
              "      <th>11</th>\n",
              "      <td>67646</td>\n",
              "      <td>67635</td>\n",
              "      <td>EP</td>\n",
              "      <td>F4</td>\n",
              "      <td>6</td>\n",
              "      <td>260</td>\n",
              "      <td>[4682.0513, 4667.1797, 4662.0513, 4669.231, 4676.41, 4680.0, 4676.923, 4669.231, 4665.641, 4667....</td>\n",
              "    </tr>\n",
              "    <tr>\n",
              "      <th>12</th>\n",
              "      <td>67647</td>\n",
              "      <td>67635</td>\n",
              "      <td>EP</td>\n",
              "      <td>F8</td>\n",
              "      <td>6</td>\n",
              "      <td>260</td>\n",
              "      <td>[3989.2307, 3983.5898, 3987.6924, 3991.795, 3992.3076, 3990.2563, 3993.3333, 4000.0, 3994.8718, ...</td>\n",
              "    </tr>\n",
              "    <tr>\n",
              "      <th>13</th>\n",
              "      <td>67648</td>\n",
              "      <td>67635</td>\n",
              "      <td>EP</td>\n",
              "      <td>AF4</td>\n",
              "      <td>6</td>\n",
              "      <td>260</td>\n",
              "      <td>[4078.4614, 4062.5642, 4055.8975, 4065.641, 4075.3845, 4074.359, 4070.7693, 4073.3333, 4072.3076...</td>\n",
              "    </tr>\n",
              "    <tr>\n",
              "      <th>14</th>\n",
              "      <td>67649</td>\n",
              "      <td>67636</td>\n",
              "      <td>EP</td>\n",
              "      <td>AF3</td>\n",
              "      <td>7</td>\n",
              "      <td>260</td>\n",
              "      <td>[4385.641, 4381.5386, 4386.6665, 4383.59, 4374.359, 4378.974, 4389.7437, 4388.205, 4381.5386, 43...</td>\n",
              "    </tr>\n",
              "    <tr>\n",
              "      <th>15</th>\n",
              "      <td>67650</td>\n",
              "      <td>67636</td>\n",
              "      <td>EP</td>\n",
              "      <td>F7</td>\n",
              "      <td>7</td>\n",
              "      <td>260</td>\n",
              "      <td>[4482.564, 4477.436, 4484.1025, 4484.615, 4471.282, 4469.7437, 4484.1025, 4488.205, 4480.5127, 4...</td>\n",
              "    </tr>\n",
              "    <tr>\n",
              "      <th>16</th>\n",
              "      <td>67651</td>\n",
              "      <td>67636</td>\n",
              "      <td>EP</td>\n",
              "      <td>F3</td>\n",
              "      <td>7</td>\n",
              "      <td>260</td>\n",
              "      <td>[4522.564, 4522.0513, 4527.1797, 4521.026, 4514.8716, 4521.5386, 4527.6924, 4524.615, 4523.077, ...</td>\n",
              "    </tr>\n",
              "    <tr>\n",
              "      <th>17</th>\n",
              "      <td>67652</td>\n",
              "      <td>67636</td>\n",
              "      <td>EP</td>\n",
              "      <td>FC5</td>\n",
              "      <td>7</td>\n",
              "      <td>260</td>\n",
              "      <td>[4217.436, 4221.5386, 4228.718, 4224.615, 4217.436, 4217.9487, 4217.9487, 4221.026, 4227.6924, 4...</td>\n",
              "    </tr>\n",
              "    <tr>\n",
              "      <th>18</th>\n",
              "      <td>67653</td>\n",
              "      <td>67636</td>\n",
              "      <td>EP</td>\n",
              "      <td>T7</td>\n",
              "      <td>7</td>\n",
              "      <td>260</td>\n",
              "      <td>[4498.974, 4500.0, 4499.4873, 4494.8716, 4492.8203, 4496.923, 4500.5127, 4500.0, 4501.5386, 4501...</td>\n",
              "    </tr>\n",
              "    <tr>\n",
              "      <th>19</th>\n",
              "      <td>67654</td>\n",
              "      <td>67636</td>\n",
              "      <td>EP</td>\n",
              "      <td>P7</td>\n",
              "      <td>7</td>\n",
              "      <td>260</td>\n",
              "      <td>[4194.359, 4192.3076, 4191.795, 4188.205, 4187.6924, 4191.795, 4194.359, 4195.385, 4194.8716, 41...</td>\n",
              "    </tr>\n",
              "  </tbody>\n",
              "</table>\n",
              "</div>"
            ],
            "text/plain": [
              "       id  ...                                                                                                 data\n",
              "0   67635  ...  [4395.385, 4382.564, 4377.436, 4387.1797, 4395.8975, 4398.4614, 4396.923, 4391.795, 4391.282, 43...\n",
              "1   67636  ...  [4489.231, 4475.385, 4474.359, 4486.6665, 4498.974, 4496.41, 4486.6665, 4489.7437, 4498.4614, 45...\n",
              "2   67637  ...  [4538.4614, 4528.718, 4524.615, 4526.154, 4532.3076, 4538.4614, 4535.385, 4528.205, 4528.718, 45...\n",
              "3   67638  ...  [4207.6924, 4205.641, 4200.5127, 4194.359, 4198.4614, 4213.846, 4219.4873, 4210.769, 4202.564, 4...\n",
              "4   67639  ...  [4497.9487, 4498.4614, 4494.8716, 4497.9487, 4506.154, 4508.205, 4501.5386, 4497.436, 4498.4614,...\n",
              "5   67640  ...  [4203.077, 4192.8203, 4194.8716, 4204.615, 4208.205, 4207.6924, 4208.205, 4206.154, 4202.564, 42...\n",
              "6   67641  ...  [4203.077, 4193.3335, 4194.8716, 4207.1797, 4220.5127, 4222.564, 4217.436, 4212.3076, 4210.2563,...\n",
              "7   67642  ...  [4229.7437, 4216.923, 4207.1797, 4215.385, 4234.8716, 4238.974, 4230.769, 4222.564, 4215.385, 42...\n",
              "8   67643  ...  [4245.641, 4236.41, 4218.4614, 4220.0, 4239.4873, 4246.154, 4244.1025, 4242.564, 4231.282, 4225....\n",
              "9   67644  ...  [4506.6665, 4501.026, 4496.923, 4496.923, 4504.1025, 4514.359, 4519.4873, 4511.795, 4498.4614, 4...\n",
              "10  67645  ...  [4227.6924, 4215.385, 4210.769, 4221.026, 4228.205, 4229.231, 4229.7437, 4227.6924, 4222.0513, 4...\n",
              "11  67646  ...  [4682.0513, 4667.1797, 4662.0513, 4669.231, 4676.41, 4680.0, 4676.923, 4669.231, 4665.641, 4667....\n",
              "12  67647  ...  [3989.2307, 3983.5898, 3987.6924, 3991.795, 3992.3076, 3990.2563, 3993.3333, 4000.0, 3994.8718, ...\n",
              "13  67648  ...  [4078.4614, 4062.5642, 4055.8975, 4065.641, 4075.3845, 4074.359, 4070.7693, 4073.3333, 4072.3076...\n",
              "14  67649  ...  [4385.641, 4381.5386, 4386.6665, 4383.59, 4374.359, 4378.974, 4389.7437, 4388.205, 4381.5386, 43...\n",
              "15  67650  ...  [4482.564, 4477.436, 4484.1025, 4484.615, 4471.282, 4469.7437, 4484.1025, 4488.205, 4480.5127, 4...\n",
              "16  67651  ...  [4522.564, 4522.0513, 4527.1797, 4521.026, 4514.8716, 4521.5386, 4527.6924, 4524.615, 4523.077, ...\n",
              "17  67652  ...  [4217.436, 4221.5386, 4228.718, 4224.615, 4217.436, 4217.9487, 4217.9487, 4221.026, 4227.6924, 4...\n",
              "18  67653  ...  [4498.974, 4500.0, 4499.4873, 4494.8716, 4492.8203, 4496.923, 4500.5127, 4500.0, 4501.5386, 4501...\n",
              "19  67654  ...  [4194.359, 4192.3076, 4191.795, 4188.205, 4187.6924, 4191.795, 4194.359, 4195.385, 4194.8716, 41...\n",
              "\n",
              "[20 rows x 7 columns]"
            ]
          },
          "metadata": {
            "tags": []
          },
          "execution_count": 58
        }
      ]
    },
    {
      "cell_type": "code",
      "metadata": {
        "id": "BgW8CelGz9Cw",
        "outputId": "cf354b22-3c48-40d8-c4c6-7134296bb7ff",
        "colab": {
          "base_uri": "https://localhost:8080/"
        }
      },
      "source": [
        "targets = filtered_df.groupby('event')['code'].mean().values #It is not important mean, max or min\n",
        "print('Targets amount:', len(targets))"
      ],
      "execution_count": 26,
      "outputs": [
        {
          "output_type": "stream",
          "text": [
            "Targets amount: 43301\n"
          ],
          "name": "stdout"
        }
      ]
    },
    {
      "cell_type": "code",
      "metadata": {
        "id": "DYCfteCW1QEM",
        "outputId": "b210661b-86b1-4f4f-f504-0bebbdd8aa4b",
        "colab": {
          "base_uri": "https://localhost:8080/"
        }
      },
      "source": [
        "# Stack sub-arrays and transpond matrix \n",
        "stack_data = np.vstack(filtered_df['data'].values)\n",
        "print(stack_data.shape)"
      ],
      "execution_count": 91,
      "outputs": [
        {
          "output_type": "stream",
          "text": [
            "(606214, 260)\n"
          ],
          "name": "stdout"
        }
      ]
    },
    {
      "cell_type": "code",
      "metadata": {
        "id": "svCW8rvOmNbt",
        "outputId": "808c1f50-a338-4f0b-8bbf-530456774914",
        "colab": {
          "base_uri": "https://localhost:8080/"
        }
      },
      "source": [
        "complete_samples_amounts = len(filtered_df)/14\n",
        "print('Samples amount (14 signals per one object): ', complete_samples_amounts)"
      ],
      "execution_count": 92,
      "outputs": [
        {
          "output_type": "stream",
          "text": [
            "Samples amount (14 signals per one object):  43301.0\n"
          ],
          "name": "stdout"
        }
      ]
    },
    {
      "cell_type": "code",
      "metadata": {
        "id": "DwVNxlCQRb1U"
      },
      "source": [
        "# # Scale data\n",
        "scaler = MinMaxScaler()\n",
        "scaled_data = scaler.fit_transform(stack_data)\n",
        "# scaled_data = stack_data  # uncomment to skip skaling"
      ],
      "execution_count": 94,
      "outputs": []
    },
    {
      "cell_type": "code",
      "metadata": {
        "id": "ZsY4MrRulvfT",
        "outputId": "690ddc82-0486-4463-cda3-57e56e039181",
        "colab": {
          "base_uri": "https://localhost:8080/"
        }
      },
      "source": [
        "# Split data in groups. One group ~ one target label\n",
        "split_data = np.array(np.split(scaled_data, complete_samples_amounts, axis=0))\n",
        "split_data.shape"
      ],
      "execution_count": 95,
      "outputs": [
        {
          "output_type": "execute_result",
          "data": {
            "text/plain": [
              "(43301, 14, 260)"
            ]
          },
          "metadata": {
            "tags": []
          },
          "execution_count": 95
        }
      ]
    },
    {
      "cell_type": "code",
      "metadata": {
        "id": "3GEy2kOZnAxj",
        "outputId": "d312463f-d036-4780-f25b-629e92db7a7f",
        "colab": {
          "base_uri": "https://localhost:8080/"
        }
      },
      "source": [
        "# Reshape 14 vectors in one\n",
        "data = np.reshape(split_data, [split_data.shape[0], split_data.shape[1] * split_data.shape[2]])\n",
        "data.shape"
      ],
      "execution_count": 96,
      "outputs": [
        {
          "output_type": "execute_result",
          "data": {
            "text/plain": [
              "(43301, 3640)"
            ]
          },
          "metadata": {
            "tags": []
          },
          "execution_count": 96
        }
      ]
    },
    {
      "cell_type": "code",
      "metadata": {
        "id": "_3Qpmk1wo2cm"
      },
      "source": [
        "# # Make final dataframe with with data - target\n",
        "# result_df = pd.DataFrame(zip(data, targets), columns=['data', 'target'])\n",
        "# result_df.head()"
      ],
      "execution_count": 97,
      "outputs": []
    },
    {
      "cell_type": "code",
      "metadata": {
        "id": "lrFzZtML0yVL",
        "outputId": "7ff71380-9cc0-458c-8aa3-7e610e7e9ce8",
        "colab": {
          "base_uri": "https://localhost:8080/",
          "height": 405
        }
      },
      "source": [
        "plt.figure(figsize=(10, 5))\n",
        "ax = sns.countplot(targets)\n",
        "ax.set(xlabel='Numbers', ylabel='Amount')\n",
        "plt.title('MNIST numbers distribution')\n",
        "plt.show()"
      ],
      "execution_count": 98,
      "outputs": [
        {
          "output_type": "stream",
          "text": [
            "/usr/local/lib/python3.6/dist-packages/seaborn/_decorators.py:43: FutureWarning: Pass the following variable as a keyword arg: x. From version 0.12, the only valid positional argument will be `data`, and passing other arguments without an explicit keyword will result in an error or misinterpretation.\n",
            "  FutureWarning\n"
          ],
          "name": "stderr"
        },
        {
          "output_type": "display_data",
          "data": {
            "image/png": "[encoded data removed]",
            "text/plain": [
              "<Figure size 720x360 with 1 Axes>"
            ]
          },
          "metadata": {
            "tags": [],
            "needs_background": "light"
          }
        }
      ]
    },
    {
      "cell_type": "markdown",
      "metadata": {
        "id": "cwOGC41_JMpa"
      },
      "source": [
        "Dataset seems quite balanced. Let's make index partition."
      ]
    },
    {
      "cell_type": "code",
      "metadata": {
        "id": "ry931YVT_2So"
      },
      "source": [
        "idx_full = list(range(len(data)))"
      ],
      "execution_count": 99,
      "outputs": []
    },
    {
      "cell_type": "code",
      "metadata": {
        "id": "Clb4T2vCzEk8"
      },
      "source": [
        "idx_rest, idx_val, y_rest, y_val = train_test_split(idx_full, targets, test_size=0.2, stratify=targets)\n",
        "idx_train, idx_test, y_train, y_test = train_test_split(idx_rest, y_rest, test_size=0.1, stratify=y_rest)"
      ],
      "execution_count": 100,
      "outputs": []
    },
    {
      "cell_type": "code",
      "metadata": {
        "id": "twFam8Z9CVms",
        "outputId": "7812ca62-97b2-4b73-f1f5-a33724ca3722",
        "colab": {
          "base_uri": "https://localhost:8080/"
        }
      },
      "source": [
        "print(len(y_train), len(y_val), len(y_test))"
      ],
      "execution_count": 101,
      "outputs": [
        {
          "output_type": "stream",
          "text": [
            "31176 8661 3464\n"
          ],
          "name": "stdout"
        }
      ]
    },
    {
      "cell_type": "code",
      "metadata": {
        "id": "TAxCbIhwteN4"
      },
      "source": [
        "X_train = data[idx_train, :]\n",
        "X_valid = data[idx_val, :]\n",
        "X_test = data[idx_test, :]"
      ],
      "execution_count": 102,
      "outputs": []
    },
    {
      "cell_type": "markdown",
      "metadata": {
        "id": "PZ0aV9_3t3R6"
      },
      "source": [
        "### Linear model"
      ]
    },
    {
      "cell_type": "code",
      "metadata": {
        "id": "N2INkfL9urvh"
      },
      "source": [
        "from sklearn.linear_model import RidgeClassifier\n",
        "from sklearn.ensemble import RandomForestClassifier\n",
        "from sklearn.metrics import accuracy_score"
      ],
      "execution_count": 106,
      "outputs": []
    },
    {
      "cell_type": "code",
      "metadata": {
        "id": "_NHrOgk3qJYl",
        "outputId": "c0bc16fa-22c9-4895-8baf-3af743ebe34c",
        "colab": {
          "base_uri": "https://localhost:8080/"
        }
      },
      "source": [
        "%%time\n",
        "clf = RidgeClassifier()\n",
        "clf.fit(X_train, y_train)\n",
        "ridge_preds = clf.predict(X_test)\n",
        "accuracy_score(ridge_preds, y_test)"
      ],
      "execution_count": 104,
      "outputs": [
        {
          "output_type": "stream",
          "text": [
            "CPU times: user 15.9 s, sys: 991 ms, total: 16.8 s\n",
            "Wall time: 9.22 s\n"
          ],
          "name": "stdout"
        }
      ]
    },
    {
      "cell_type": "code",
      "metadata": {
        "id": "aUPMDXRGuKcc"
      },
      "source": [
        "%%time\n",
        "clf = RandomForestClassifier()\n",
        "clf.fit(X_train, y_train)\n",
        "forest_preds = clf.predict(X_test)\n",
        "accuracy_score(forest_preds, y_test)"
      ],
      "execution_count": null,
      "outputs": []
    },
    {
      "cell_type": "code",
      "metadata": {
        "id": "7WycrRdguUQx"
      },
      "source": [
        ""
      ],
      "execution_count": 86,
      "outputs": []
    },
    {
      "cell_type": "code",
      "metadata": {
        "id": "w929VDTducYk",
        "outputId": "58af48dc-1e6f-46ff-9b89-e26eaded801b",
        "colab": {
          "base_uri": "https://localhost:8080/"
        }
      },
      "source": [
        ""
      ],
      "execution_count": 87,
      "outputs": [
        {
          "output_type": "execute_result",
          "data": {
            "text/plain": [
              "0.11922632794457275"
            ]
          },
          "metadata": {
            "tags": []
          },
          "execution_count": 87
        }
      ]
    },
    {
      "cell_type": "code",
      "metadata": {
        "id": "Mf2wdRhKiM63"
      },
      "source": [
        "############################################################################"
      ],
      "execution_count": null,
      "outputs": []
    },
    {
      "cell_type": "markdown",
      "metadata": {
        "id": "EJZtdYL5L4fR"
      },
      "source": [
        "Data generator example: https://stanford.edu/~shervine/blog/pytorch-how-to-generate-data-parallel"
      ]
    },
    {
      "cell_type": "code",
      "metadata": {
        "id": "RZHbRuPgfTqA"
      },
      "source": [
        "class Dataset(torch.utils.data.Dataset):\n",
        "  'Characterizes a dataset for PyTorch'\n",
        "  def __init__(self, list_IDs, labels):\n",
        "        'Initialization'\n",
        "        self.labels = labels\n",
        "        self.list_IDs = list_IDs\n",
        "\n",
        "  def __len__(self):\n",
        "        'Denotes the total number of samples'\n",
        "        return len(self.list_IDs)\n",
        "\n",
        "  def __getitem__(self, index):\n",
        "        'Generates one sample of data'\n",
        "        # Select sample\n",
        "        idx = self.list_IDs[index]\n",
        "\n",
        "        # Load data\n",
        "        X = data[idx, :, :]\n",
        "        y = self.labels[index]\n",
        "\n",
        "        return X, y"
      ],
      "execution_count": null,
      "outputs": []
    },
    {
      "cell_type": "code",
      "metadata": {
        "id": "Dm8m7gkqjrJm"
      },
      "source": [
        "training_set = Dataset(idx_train, y_train)\n",
        "training_generator = DataLoader(training_set, batch_size=BATCH_SIZE, shuffle=True, drop_last=True)\n",
        "\n",
        "validation_set = Dataset(idx_val, y_val)\n",
        "validation_generator = DataLoader(validation_set, batch_size=BATCH_SIZE, shuffle=True, drop_last=True)\n",
        "\n",
        "test_set = Dataset(idx_test, y_test)\n",
        "test_generator = DataLoader(test_set, batch_size=BATCH_SIZE, shuffle=True, drop_last=True)"
      ],
      "execution_count": null,
      "outputs": []
    },
    {
      "cell_type": "code",
      "metadata": {
        "id": "rCPWI-RCp-TI"
      },
      "source": [
        "loaders = {'train': training_generator, 'val': validation_generator, 'test': test_generator}\n",
        "                      "
      ],
      "execution_count": null,
      "outputs": []
    },
    {
      "cell_type": "code",
      "metadata": {
        "id": "GEaOMDTwoltA",
        "outputId": "236b795d-855d-41cc-e418-058cf22dcc83",
        "colab": {
          "base_uri": "https://localhost:8080/",
          "height": 52
        }
      },
      "source": [
        "# Check sample\n",
        "egg_sample, label_sample = next(iter(training_set))\n",
        "print(\"Samples amount, ms: {}; channels amount: {}\".format(*egg_sample.shape))\n",
        "print(\"Label:\", label_sample)"
      ],
      "execution_count": null,
      "outputs": [
        {
          "output_type": "stream",
          "text": [
            "Samples amount, ms: 260; channels amount: 14\n",
            "Label: 0\n"
          ],
          "name": "stdout"
        }
      ]
    },
    {
      "cell_type": "code",
      "metadata": {
        "id": "86CXKocRCb_8",
        "outputId": "75ea762b-9f4a-44f0-cf5f-7a7fe70b5aa4",
        "colab": {
          "base_uri": "https://localhost:8080/",
          "height": 52
        }
      },
      "source": [
        "# Check batch sample\n",
        "batch_sample = next(iter(loaders['train']))\n",
        "data_batch, target_batch = batch_sample\n",
        "print('Data batch shape:', data_batch.shape)\n",
        "print('Target batch shape:',target_batch.shape)"
      ],
      "execution_count": null,
      "outputs": [
        {
          "output_type": "stream",
          "text": [
            "Data batch shape: torch.Size([16, 260, 14])\n",
            "Target batch shape: torch.Size([16])\n"
          ],
          "name": "stdout"
        }
      ]
    },
    {
      "cell_type": "code",
      "metadata": {
        "id": "ev3yXOYioEah"
      },
      "source": [
        "# Define model\n",
        "class Model(nn.Module):\n",
        "\n",
        "    def __init__(self, input_size, lstm_size, lstm_layers, embedding_size, num_classes):\n",
        "        # Call parent\n",
        "        super().__init__()\n",
        "        # Define parameters\n",
        "        self.input_size = input_size\n",
        "        self.lstm_size = lstm_size\n",
        "        self.lstm_layers = lstm_layers\n",
        "        self.embedding_size = embedding_size\n",
        "        self.num_classes = num_classes\n",
        "        # Define internal modules\n",
        "        self.lstm = nn.LSTM(input_size, lstm_size, num_layers=lstm_layers, batch_first=True)\n",
        "        self.embedding = nn.Linear(lstm_size, embedding_size)\n",
        "        self.classifier = nn.Linear(embedding_size, num_classes)\n",
        "\n",
        "    def forward(self, x):\n",
        "        # Prepare LSTM initiale state\n",
        "        batch_size = x.size(0)\n",
        "        # Forward LSTM and get final state\n",
        "        #print(x.shape)\n",
        "        x = x.permute(1,0,2)\n",
        "        x,_ = self.lstm(x)\n",
        "        #print(x.shape)\n",
        "        #x = x[:,-1,:]\n",
        "        x = x[-1,:,:]\n",
        "        #print(x.shape)\n",
        "        # Forward embedding\n",
        "        x = F.relu(self.embedding(x))\n",
        "        # Forward classifier\n",
        "        x = self.classifier(x)\n",
        "        return x"
      ],
      "execution_count": null,
      "outputs": []
    },
    {
      "cell_type": "code",
      "metadata": {
        "id": "9kXdWpXKoFw1"
      },
      "source": [
        "model = Model(14, LSTM_SIZE, LSTM_LAYERS, EMBEDDING_SIZE, NUM_CLASSES)\n",
        "optimizer = getattr(torch.optim, OPTIM_NAME)(model.parameters(), lr = LR)"
      ],
      "execution_count": null,
      "outputs": []
    },
    {
      "cell_type": "code",
      "metadata": {
        "id": "3s5NBT9nqb82"
      },
      "source": [
        "start_epoch = 1 # default counter for traning loop\n",
        "\n",
        "# if CHECKPOINT_NAME is not None:\n",
        "#     checkpoint = torch.load(os.path.join(CHKPT_FOLDER, CHECKPOINT_NAME))\n",
        "#     model.load_state_dict(checkpoint['model_state_dict'])\n",
        "#     optimizer.load_state_dict(checkpoint['optimizer_state_dict'])\n",
        "#     start_epoch = checkpoint['epoch']\n",
        "#     loss = checkpoint['loss']"
      ],
      "execution_count": null,
      "outputs": []
    },
    {
      "cell_type": "code",
      "metadata": {
        "id": "5Qqeghq8oaJP",
        "outputId": "13dc840d-7644-46bd-af5b-cda5e52194c2",
        "colab": {
          "base_uri": "https://localhost:8080/",
          "height": 402
        }
      },
      "source": [
        "# Setup CUDA\n",
        "if not NO_CUDA:\n",
        "    model.cuda()\n",
        "    print(\"Copied to CUDA\")\n",
        "\n",
        "# Start training\n",
        "for epoch in range(start_epoch, EPOCHS+1):\n",
        "    # Initialize loss/accuracy variables\n",
        "    losses = {\"train\": 0, \"val\": 0, \"test\": 0}\n",
        "    accuracies = {\"train\": 0, \"val\": 0, \"test\": 0}\n",
        "    counts = {\"train\": 0, \"val\": 0, \"test\": 0}\n",
        "    # Adjust learning rate for SGD\n",
        "    if OPTIM_NAME == \"SGD\":\n",
        "        lr = LR * (LR_DECAY_FACTOR ** (epoch // LR_DECAY_PERIOD))\n",
        "        for param_group in optimizer.param_groups:\n",
        "            param_group['lr'] = lr\n",
        "    # Process each split\n",
        "    for split in (\"train\", \"val\", \"test\"):\n",
        "        # Set network mode\n",
        "        if split == \"train\":\n",
        "            model.train()\n",
        "            torch.set_grad_enabled(True)\n",
        "        else:\n",
        "            model.eval()\n",
        "            torch.set_grad_enabled(False)\n",
        "        # Process all split batches\n",
        "        for i, (input, target) in enumerate(loaders[split]):\n",
        "            # Check CUDA\n",
        "            if not NO_CUDA:\n",
        "                input = input.cuda(async = True)\n",
        "                target = target.cuda(async = True)\n",
        "            # Forward\n",
        "            output = model(input)\n",
        "            loss = F.cross_entropy(output, target)\n",
        "            losses[split] += loss.item()\n",
        "            # Compute accuracy\n",
        "            _,pred = output.data.max(1)\n",
        "            correct = pred.eq(target.data).sum().item()\n",
        "            accuracy = correct/input.data.size(0)\n",
        "            accuracies[split] += accuracy\n",
        "            counts[split] += 1\n",
        "            # Backward and optimize\n",
        "            if split == \"train\":\n",
        "                optimizer.zero_grad()\n",
        "                loss.backward()\n",
        "                optimizer.step()\n",
        "    ## Save checkpoint\n",
        "    # if epoch % 10 == 0:\n",
        "    #     torch.save({\n",
        "    #         'epoch': epoch,\n",
        "    #         'model_state_dict': model.state_dict(),\n",
        "    #         'optimizer_state_dict': optimizer.state_dict(),\n",
        "    #         'loss': loss\n",
        "    #     }, os.path.join(CHKPT_FOLDER, 'vanila_lstm_chkpt_epoch_{}.pt'.format(epoch)))\n",
        "\n",
        "    # Print info at the end of the epoch\n",
        "    print(\"Epoch {0}: TrL={1:.4f}, TrA={2:.4f}, VL={3:.4f}, VA={4:.4f}, TeL={5:.4f}, TeA={6:.4f}\".format(epoch,\n",
        "                                                                                                         losses[\"train\"]/counts[\"train\"],\n",
        "                                                                                                         accuracies[\"train\"]/counts[\"train\"],\n",
        "                                                                                                         losses[\"val\"]/counts[\"val\"],\n",
        "                                                                                                         accuracies[\"val\"]/counts[\"val\"],\n",
        "                                                                                                         losses[\"test\"]/counts[\"test\"],\n",
        "                                                                                                         accuracies[\"test\"]/counts[\"test\"]))"
      ],
      "execution_count": null,
      "outputs": [
        {
          "output_type": "stream",
          "text": [
            "Epoch 416: TrL=2.3043, TrA=0.1016, VL=2.3041, VA=0.1007, TeL=2.3040, TeA=0.1008\n"
          ],
          "name": "stdout"
        },
        {
          "output_type": "error",
          "ename": "KeyboardInterrupt",
          "evalue": "ignored",
          "traceback": [
            "\u001b[0;31m---------------------------------------------------------------------------\u001b[0m",
            "\u001b[0;31mKeyboardInterrupt\u001b[0m                         Traceback (most recent call last)",
            "\u001b[0;32m<ipython-input-36-cca577fc1bd5>\u001b[0m in \u001b[0;36m<module>\u001b[0;34m()\u001b[0m\n\u001b[1;32m     44\u001b[0m                 \u001b[0moptimizer\u001b[0m\u001b[0;34m.\u001b[0m\u001b[0mzero_grad\u001b[0m\u001b[0;34m(\u001b[0m\u001b[0;34m)\u001b[0m\u001b[0;34m\u001b[0m\u001b[0;34m\u001b[0m\u001b[0m\n\u001b[1;32m     45\u001b[0m                 \u001b[0mloss\u001b[0m\u001b[0;34m.\u001b[0m\u001b[0mbackward\u001b[0m\u001b[0;34m(\u001b[0m\u001b[0;34m)\u001b[0m\u001b[0;34m\u001b[0m\u001b[0;34m\u001b[0m\u001b[0m\n\u001b[0;32m---> 46\u001b[0;31m                 \u001b[0moptimizer\u001b[0m\u001b[0;34m.\u001b[0m\u001b[0mstep\u001b[0m\u001b[0;34m(\u001b[0m\u001b[0;34m)\u001b[0m\u001b[0;34m\u001b[0m\u001b[0;34m\u001b[0m\u001b[0m\n\u001b[0m\u001b[1;32m     47\u001b[0m     \u001b[0;31m## Save checkpoint\u001b[0m\u001b[0;34m\u001b[0m\u001b[0;34m\u001b[0m\u001b[0;34m\u001b[0m\u001b[0m\n\u001b[1;32m     48\u001b[0m     \u001b[0;31m# if epoch % 10 == 0:\u001b[0m\u001b[0;34m\u001b[0m\u001b[0;34m\u001b[0m\u001b[0;34m\u001b[0m\u001b[0m\n",
            "\u001b[0;32m/usr/local/lib/python3.6/dist-packages/torch/autograd/grad_mode.py\u001b[0m in \u001b[0;36mdecorate_context\u001b[0;34m(*args, **kwargs)\u001b[0m\n\u001b[1;32m     13\u001b[0m         \u001b[0;32mdef\u001b[0m \u001b[0mdecorate_context\u001b[0m\u001b[0;34m(\u001b[0m\u001b[0;34m*\u001b[0m\u001b[0margs\u001b[0m\u001b[0;34m,\u001b[0m \u001b[0;34m**\u001b[0m\u001b[0mkwargs\u001b[0m\u001b[0;34m)\u001b[0m\u001b[0;34m:\u001b[0m\u001b[0;34m\u001b[0m\u001b[0;34m\u001b[0m\u001b[0m\n\u001b[1;32m     14\u001b[0m             \u001b[0;32mwith\u001b[0m \u001b[0mself\u001b[0m\u001b[0;34m:\u001b[0m\u001b[0;34m\u001b[0m\u001b[0;34m\u001b[0m\u001b[0m\n\u001b[0;32m---> 15\u001b[0;31m                 \u001b[0;32mreturn\u001b[0m \u001b[0mfunc\u001b[0m\u001b[0;34m(\u001b[0m\u001b[0;34m*\u001b[0m\u001b[0margs\u001b[0m\u001b[0;34m,\u001b[0m \u001b[0;34m**\u001b[0m\u001b[0mkwargs\u001b[0m\u001b[0;34m)\u001b[0m\u001b[0;34m\u001b[0m\u001b[0;34m\u001b[0m\u001b[0m\n\u001b[0m\u001b[1;32m     16\u001b[0m         \u001b[0;32mreturn\u001b[0m \u001b[0mdecorate_context\u001b[0m\u001b[0;34m\u001b[0m\u001b[0;34m\u001b[0m\u001b[0m\n\u001b[1;32m     17\u001b[0m \u001b[0;34m\u001b[0m\u001b[0m\n",
            "\u001b[0;32m/usr/local/lib/python3.6/dist-packages/torch/optim/adam.py\u001b[0m in \u001b[0;36mstep\u001b[0;34m(self, closure)\u001b[0m\n\u001b[1;32m     97\u001b[0m \u001b[0;34m\u001b[0m\u001b[0m\n\u001b[1;32m     98\u001b[0m                 \u001b[0;31m# Decay the first and second moment running average coefficient\u001b[0m\u001b[0;34m\u001b[0m\u001b[0;34m\u001b[0m\u001b[0;34m\u001b[0m\u001b[0m\n\u001b[0;32m---> 99\u001b[0;31m                 \u001b[0mexp_avg\u001b[0m\u001b[0;34m.\u001b[0m\u001b[0mmul_\u001b[0m\u001b[0;34m(\u001b[0m\u001b[0mbeta1\u001b[0m\u001b[0;34m)\u001b[0m\u001b[0;34m.\u001b[0m\u001b[0madd_\u001b[0m\u001b[0;34m(\u001b[0m\u001b[0mgrad\u001b[0m\u001b[0;34m,\u001b[0m \u001b[0malpha\u001b[0m\u001b[0;34m=\u001b[0m\u001b[0;36m1\u001b[0m \u001b[0;34m-\u001b[0m \u001b[0mbeta1\u001b[0m\u001b[0;34m)\u001b[0m\u001b[0;34m\u001b[0m\u001b[0;34m\u001b[0m\u001b[0m\n\u001b[0m\u001b[1;32m    100\u001b[0m                 \u001b[0mexp_avg_sq\u001b[0m\u001b[0;34m.\u001b[0m\u001b[0mmul_\u001b[0m\u001b[0;34m(\u001b[0m\u001b[0mbeta2\u001b[0m\u001b[0;34m)\u001b[0m\u001b[0;34m.\u001b[0m\u001b[0maddcmul_\u001b[0m\u001b[0;34m(\u001b[0m\u001b[0mgrad\u001b[0m\u001b[0;34m,\u001b[0m \u001b[0mgrad\u001b[0m\u001b[0;34m,\u001b[0m \u001b[0mvalue\u001b[0m\u001b[0;34m=\u001b[0m\u001b[0;36m1\u001b[0m \u001b[0;34m-\u001b[0m \u001b[0mbeta2\u001b[0m\u001b[0;34m)\u001b[0m\u001b[0;34m\u001b[0m\u001b[0;34m\u001b[0m\u001b[0m\n\u001b[1;32m    101\u001b[0m                 \u001b[0;32mif\u001b[0m \u001b[0mamsgrad\u001b[0m\u001b[0;34m:\u001b[0m\u001b[0;34m\u001b[0m\u001b[0;34m\u001b[0m\u001b[0m\n",
            "\u001b[0;31mKeyboardInterrupt\u001b[0m: "
          ]
        }
      ]
    },
    {
      "cell_type": "code",
      "metadata": {
        "id": "jX44ibms_FyD"
      },
      "source": [
        "# torch.save(model, SAVE_PATH)"
      ],
      "execution_count": null,
      "outputs": []
    },
    {
      "cell_type": "code",
      "metadata": {
        "id": "1LATG1buw1-F"
      },
      "source": [
        ""
      ],
      "execution_count": null,
      "outputs": []
    }
  ]
}