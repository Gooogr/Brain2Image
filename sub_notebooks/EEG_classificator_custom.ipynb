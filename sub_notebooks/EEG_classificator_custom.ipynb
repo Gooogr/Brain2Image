{
  "nbformat": 4,
  "nbformat_minor": 0,
  "metadata": {
    "colab": {
      "name": "EEG_classificator_custom.ipynb",
      "provenance": [],
      "collapsed_sections": [],
      "authorship_tag": "ABX9TyP4vJpB7DBkHS4/K4sT/1jP",
      "include_colab_link": true
    },
    "kernelspec": {
      "name": "python3",
      "display_name": "Python 3"
    }
  },
  "cells": [
    {
      "cell_type": "markdown",
      "metadata": {
        "id": "view-in-github",
        "colab_type": "text"
      },
      "source": [
        "<a href=\"https://colab.research.google.com/github/Gooogr/Brain2Image/blob/master/sub_notebooks/EEG_classificator_custom.ipynb\" target=\"_parent\"><img src=\"https://colab.research.google.com/assets/colab-badge.svg\" alt=\"Open In Colab\"/></a>"
      ]
    },
    {
      "cell_type": "markdown",
      "metadata": {
        "id": "FQYla7FxIgqm",
        "colab_type": "text"
      },
      "source": [
        "EEG signals classificator based on Perceive Lab dataset<br>\n",
        "Dataset:  http://www.perceivelab.com/dataset/EEG%20Data%20for%20Visual%20Classification"
      ]
    },
    {
      "cell_type": "code",
      "metadata": {
        "id": "Wsk0K8TeIh5k",
        "colab_type": "code",
        "colab": {}
      },
      "source": [
        "import os"
      ],
      "execution_count": null,
      "outputs": []
    },
    {
      "cell_type": "markdown",
      "metadata": {
        "id": "_MY4GxCIIdPa",
        "colab_type": "text"
      },
      "source": [
        "Prepare dataset"
      ]
    },
    {
      "cell_type": "markdown",
      "metadata": {
        "id": "50LeCBPHIa0X",
        "colab_type": "text"
      },
      "source": [
        "Link to code:<br>\n",
        "https://arxiv.org/pdf/1812.07697.pdf\n",
        "\n",
        "Link to percivelab files:<br>\n",
        "http://perceive.dieei.unict.it/files/\n",
        "\n",
        "Link to LSTM script from the article:<br>\n",
        "http://perceive.dieei.unict.it/files/cvpr_2017_eeg_encoder.py"
      ]
    },
    {
      "cell_type": "code",
      "metadata": {
        "id": "_KH7owS9J6xs",
        "colab_type": "code",
        "colab": {}
      },
      "source": [
        ""
      ],
      "execution_count": null,
      "outputs": []
    }
  ]
}