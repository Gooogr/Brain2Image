{
  "nbformat": 4,
  "nbformat_minor": 0,
  "metadata": {
    "colab": {
      "name": "EEG_classificator_LSTM_updated.ipynb",
      "provenance": [],
      "collapsed_sections": [],
      "authorship_tag": "ABX9TyM+5uE0w+JNnPe9K8F2ED3m",
      "include_colab_link": true
    },
    "kernelspec": {
      "name": "python3",
      "display_name": "Python 3"
    },
    "accelerator": "GPU"
  },
  "cells": [
    {
      "cell_type": "markdown",
      "metadata": {
        "id": "view-in-github",
        "colab_type": "text"
      },
      "source": [
        "<a href=\"https://colab.research.google.com/github/Gooogr/Brain2Image/blob/master/sub_notebooks/EEG_classificator_LSTM_updated.ipynb\" target=\"_parent\"><img src=\"https://colab.research.google.com/assets/colab-badge.svg\" alt=\"Open In Colab\"/></a>"
      ]
    },
    {
      "cell_type": "markdown",
      "metadata": {
        "id": "MNQpIWneZXqZ"
      },
      "source": [
        "This notebook is designed to run an updated script with an LSTM classifier. Code was got by email.\n",
        "\n",
        "Link to percivelab files:<br>\n",
        "[Code](https://studentiunict-my.sharepoint.com/personal/concetto_spampinato_unict_it/_layouts/15/onedrive.aspx?id=%2Fpersonal%2Fconcetto%5Fspampinato%5Funict%5Fit%2FDocuments%2FCode%2Fonline%5Fcode%2Feeg%5Fclassification%5Fcode&originalPath=aHR0cHM6Ly9zdHVkZW50aXVuaWN0LW15LnNoYXJlcG9pbnQuY29tLzpmOi9nL3BlcnNvbmFsL2NvbmNldHRvX3NwYW1waW5hdG9fdW5pY3RfaXQvRW1TMmNVeUVXbHhOcXo5bnBpQmlwSWdCNEdnVVpMcFFJVkQ1cW9pbXBybV9YUT9ydGltZT01dXVDOThwMjJFZw)\n"
      ]
    },
    {
      "cell_type": "code",
      "metadata": {
        "id": "DKYOIw9rWc5O",
        "outputId": "ea56800d-dc61-468c-ae66-38a76e5a4091",
        "colab": {
          "base_uri": "https://localhost:8080/",
          "height": 34
        }
      },
      "source": [
        "from google.colab import drive\n",
        "drive.mount(\"/content/drive\", force_remount=True)\n",
        "! ln -s \"/content/drive/My Drive\" \"/content/mydrive\""
      ],
      "execution_count": 1,
      "outputs": [
        {
          "output_type": "stream",
          "text": [
            "Mounted at /content/drive\n"
          ],
          "name": "stdout"
        }
      ]
    },
    {
      "cell_type": "code",
      "metadata": {
        "id": "XCDFkThmW-4H"
      },
      "source": [
        "## There are 3 types of datasets. 55-95Hz, 5-95Hz, 14-70Hz\n",
        "DATASET_PATH = \"/content/mydrive/EEG2Image_research/datasets/perceice_lab_new/eeg_55_95_std.pth\"\n",
        "# DATASET_PATH = r'/content/drive/My Drive/EEG2Image_research/datasets/perceice_lab_new/eeg_5_95_std.pth'\n",
        "# DATASET_PATH = r'/content/drive/My Drive/EEG2Image_research/datasets/perceice_lab_new/eeg_14_70_std.pth'\n",
        "\n",
        "\n",
        "SPLIT_PATH = r'/content/mydrive/EEG2Image_research/datasets/perceice_lab_new/block_splits_by_image_all.pth'\n",
        "# SPLIT_PATH = r'/content/drive/My Drive/EEG2Image_research/datasets/perceice_lab_new/block_splits_by_image_single.pth'"
      ],
      "execution_count": 12,
      "outputs": []
    },
    {
      "cell_type": "code",
      "metadata": {
        "id": "UUsi8b9xXqkC",
        "outputId": "b8b17d6c-d2d1-4abd-f2c5-4d5c99d2cd9d",
        "colab": {
          "base_uri": "https://localhost:8080/",
          "height": 34
        }
      },
      "source": [
        "% cd /content/mydrive/EEG2Image_research/Scripts/updated_eeg_classifier/\n"
      ],
      "execution_count": 3,
      "outputs": [
        {
          "output_type": "stream",
          "text": [
            "/content/drive/My Drive/EEG2Image_research/Scripts/updated_eeg_classifier\n"
          ],
          "name": "stdout"
        }
      ]
    },
    {
      "cell_type": "code",
      "metadata": {
        "id": "M6VIPdEDXsuf",
        "outputId": "18f74d5f-2b09-4a2a-e98a-63ee71fa26b4",
        "colab": {
          "base_uri": "https://localhost:8080/",
          "height": 955
        }
      },
      "source": [
        "!python3 eeg_signal_classification.py --help"
      ],
      "execution_count": 4,
      "outputs": [
        {
          "output_type": "stream",
          "text": [
            "usage: eeg_signal_classification.py [-h] [-ed EEG_DATASET] [-sp SPLITS_PATH]\n",
            "                                    [-sn SPLIT_NUM] [-sub SUBJECT]\n",
            "                                    [-tl TIME_LOW] [-th TIME_HIGH]\n",
            "                                    [-mt MODEL_TYPE]\n",
            "                                    [-mp [MODEL_PARAMS [MODEL_PARAMS ...]]]\n",
            "                                    [--pretrained_net PRETRAINED_NET]\n",
            "                                    [-b BATCH_SIZE] [-o OPTIM]\n",
            "                                    [-lr LEARNING_RATE]\n",
            "                                    [-lrdb LEARNING_RATE_DECAY_BY]\n",
            "                                    [-lrde LEARNING_RATE_DECAY_EVERY]\n",
            "                                    [-dw DATA_WORKERS] [-e EPOCHS]\n",
            "                                    [-sc SAVECHECK] [--no-cuda]\n",
            "\n",
            "Template\n",
            "\n",
            "optional arguments:\n",
            "  -h, --help            show this help message and exit\n",
            "  -ed EEG_DATASET, --eeg-dataset EEG_DATASET\n",
            "                        EEG dataset path\n",
            "  -sp SPLITS_PATH, --splits-path SPLITS_PATH\n",
            "                        splits path\n",
            "  -sn SPLIT_NUM, --split-num SPLIT_NUM\n",
            "                        split number\n",
            "  -sub SUBJECT, --subject SUBJECT\n",
            "                        choose a subject from 1 to 6, default is 0 (all\n",
            "                        subjects)\n",
            "  -tl TIME_LOW, --time_low TIME_LOW\n",
            "                        lowest time value\n",
            "  -th TIME_HIGH, --time_high TIME_HIGH\n",
            "                        highest time value\n",
            "  -mt MODEL_TYPE, --model_type MODEL_TYPE\n",
            "                        specify which generator should be used:\n",
            "                        lstm|EEGNet|syncnet\n",
            "  -mp [MODEL_PARAMS [MODEL_PARAMS ...]], --model_params [MODEL_PARAMS [MODEL_PARAMS ...]]\n",
            "                        list of key=value pairs of model options\n",
            "  --pretrained_net PRETRAINED_NET\n",
            "                        path to pre-trained net (to continue training)\n",
            "  -b BATCH_SIZE, --batch_size BATCH_SIZE\n",
            "                        batch size\n",
            "  -o OPTIM, --optim OPTIM\n",
            "                        optimizer\n",
            "  -lr LEARNING_RATE, --learning-rate LEARNING_RATE\n",
            "                        learning rate\n",
            "  -lrdb LEARNING_RATE_DECAY_BY, --learning-rate-decay-by LEARNING_RATE_DECAY_BY\n",
            "                        learning rate decay factor\n",
            "  -lrde LEARNING_RATE_DECAY_EVERY, --learning-rate-decay-every LEARNING_RATE_DECAY_EVERY\n",
            "                        learning rate decay period\n",
            "  -dw DATA_WORKERS, --data-workers DATA_WORKERS\n",
            "                        data loading workers\n",
            "  -e EPOCHS, --epochs EPOCHS\n",
            "                        training epochs\n",
            "  -sc SAVECHECK, --saveCheck SAVECHECK\n",
            "                        learning rate\n",
            "  --no-cuda             disable CUDA\n"
          ],
          "name": "stdout"
        }
      ]
    },
    {
      "cell_type": "code",
      "metadata": {
        "id": "RIYQV40SXz6z",
        "outputId": "00157e2e-6ad2-4868-d7c7-8cd9fb852322",
        "colab": {
          "base_uri": "https://localhost:8080/",
          "height": 1000
        }
      },
      "source": [
        "!python3 eeg_signal_classification.py \\\n",
        "-ed  \"/content/mydrive/EEG2Image_research/datasets/perceice_lab_new/eeg_55_95_std.pth\" \\\n",
        "-sp \"/content/mydrive/EEG2Image_research/datasets/perceice_lab_new/block_splits_by_image_all.pth\""
      ],
      "execution_count": null,
      "outputs": [
        {
          "output_type": "stream",
          "text": [
            "Namespace(batch_size=16, data_workers=4, eeg_dataset='/content/mydrive/EEG2Image_research/datasets/perceice_lab_new/eeg_55_95_std.pth', epochs=200, learning_rate=0.001, learning_rate_decay_by=0.5, learning_rate_decay_every=10, model_params='', model_type='syncnet', no_cuda=False, optim='Adam', pretrained_net='', saveCheck=100, split_num=0, splits_path='/content/mydrive/EEG2Image_research/datasets/perceice_lab_new/block_splits_by_image_all.pth', subject=0, time_high=460, time_low=20)\n",
            "Copied to CUDA\n",
            "Model: syncnet - Subject 0 - Time interval: [20-460]  [20-460 Hz] - Epoch 1: TrL=4.0730, TrA=0.0518, VL=3.6780, VA=0.0756, TeL=3.6086, TeA=0.0756, TeA at max VA = 0.0756 at epoch 1\n",
            "Model: syncnet - Subject 0 - Time interval: [20-460]  [20-460 Hz] - Epoch 2: TrL=3.5663, TrA=0.0980, VL=3.6052, VA=0.1038, TeL=3.6633, TeA=0.0968, TeA at max VA = 0.0968 at epoch 2\n",
            "Model: syncnet - Subject 0 - Time interval: [20-460]  [20-460 Hz] - Epoch 3: TrL=3.1386, TrA=0.1369, VL=3.0322, VA=0.1265, TeL=3.0021, TeA=0.1341, TeA at max VA = 0.1341 at epoch 3\n",
            "Model: syncnet - Subject 0 - Time interval: [20-460]  [20-460 Hz] - Epoch 4: TrL=2.7197, TrA=0.1894, VL=2.8111, VA=0.1648, TeL=2.8134, TeA=0.1799, TeA at max VA = 0.1799 at epoch 4\n",
            "Model: syncnet - Subject 0 - Time interval: [20-460]  [20-460 Hz] - Epoch 5: TrL=2.4438, TrA=0.2389, VL=2.7567, VA=0.1930, TeL=2.6651, TeA=0.1971, TeA at max VA = 0.1971 at epoch 5\n",
            "Model: syncnet - Subject 0 - Time interval: [20-460]  [20-460 Hz] - Epoch 6: TrL=2.2752, TrA=0.2746, VL=2.4799, VA=0.2429, TeL=2.5100, TeA=0.2233, TeA at max VA = 0.2233 at epoch 6\n",
            "Model: syncnet - Subject 0 - Time interval: [20-460]  [20-460 Hz] - Epoch 7: TrL=2.1092, TrA=0.3211, VL=2.3047, VA=0.2470, TeL=2.3769, TeA=0.2329, TeA at max VA = 0.2329 at epoch 7\n",
            "Model: syncnet - Subject 0 - Time interval: [20-460]  [20-460 Hz] - Epoch 8: TrL=1.9731, TrA=0.3490, VL=2.4592, VA=0.2455, TeL=2.4059, TeA=0.2485, TeA at max VA = 0.2329 at epoch 7\n",
            "Model: syncnet - Subject 0 - Time interval: [20-460]  [20-460 Hz] - Epoch 9: TrL=1.8444, TrA=0.3859, VL=2.2981, VA=0.2636, TeL=2.2948, TeA=0.2651, TeA at max VA = 0.2651 at epoch 9\n",
            "Model: syncnet - Subject 0 - Time interval: [20-460]  [20-460 Hz] - Epoch 10: TrL=1.7831, TrA=0.4040, VL=2.3617, VA=0.2964, TeL=2.4385, TeA=0.2510, TeA at max VA = 0.2510 at epoch 10\n",
            "Model: syncnet - Subject 0 - Time interval: [20-460]  [20-460 Hz] - Epoch 11: TrL=1.6483, TrA=0.4459, VL=2.6977, VA=0.2384, TeL=2.4988, TeA=0.2520, TeA at max VA = 0.2510 at epoch 10\n",
            "Model: syncnet - Subject 0 - Time interval: [20-460]  [20-460 Hz] - Epoch 12: TrL=1.5888, TrA=0.4613, VL=2.3952, VA=0.2742, TeL=2.4256, TeA=0.2712, TeA at max VA = 0.2510 at epoch 10\n",
            "Model: syncnet - Subject 0 - Time interval: [20-460]  [20-460 Hz] - Epoch 13: TrL=1.4706, TrA=0.4979, VL=2.4818, VA=0.2601, TeL=2.5067, TeA=0.2576, TeA at max VA = 0.2510 at epoch 10\n",
            "Model: syncnet - Subject 0 - Time interval: [20-460]  [20-460 Hz] - Epoch 14: TrL=1.3773, TrA=0.5328, VL=2.4289, VA=0.3095, TeL=2.4698, TeA=0.2878, TeA at max VA = 0.2878 at epoch 14\n",
            "Model: syncnet - Subject 0 - Time interval: [20-460]  [20-460 Hz] - Epoch 15: TrL=1.3237, TrA=0.5509, VL=2.4114, VA=0.3125, TeL=2.4283, TeA=0.2802, TeA at max VA = 0.2802 at epoch 15\n",
            "Model: syncnet - Subject 0 - Time interval: [20-460]  [20-460 Hz] - Epoch 16: TrL=1.2318, TrA=0.5751, VL=2.5806, VA=0.2949, TeL=2.5047, TeA=0.2913, TeA at max VA = 0.2802 at epoch 15\n",
            "Model: syncnet - Subject 0 - Time interval: [20-460]  [20-460 Hz] - Epoch 17: TrL=1.1663, TrA=0.6004, VL=2.4172, VA=0.3130, TeL=2.4720, TeA=0.3029, TeA at max VA = 0.3029 at epoch 17\n",
            "Model: syncnet - Subject 0 - Time interval: [20-460]  [20-460 Hz] - Epoch 18: TrL=1.1169, TrA=0.6253, VL=2.6447, VA=0.3191, TeL=2.7583, TeA=0.2863, TeA at max VA = 0.2863 at epoch 18\n",
            "Model: syncnet - Subject 0 - Time interval: [20-460]  [20-460 Hz] - Epoch 19: TrL=1.0715, TrA=0.6327, VL=2.5736, VA=0.3125, TeL=2.5841, TeA=0.2999, TeA at max VA = 0.2863 at epoch 18\n",
            "Model: syncnet - Subject 0 - Time interval: [20-460]  [20-460 Hz] - Epoch 20: TrL=1.0100, TrA=0.6625, VL=2.6640, VA=0.3115, TeL=2.6804, TeA=0.2944, TeA at max VA = 0.2863 at epoch 18\n",
            "Model: syncnet - Subject 0 - Time interval: [20-460]  [20-460 Hz] - Epoch 21: TrL=0.9318, TrA=0.6805, VL=2.7758, VA=0.3044, TeL=2.7709, TeA=0.2979, TeA at max VA = 0.2863 at epoch 18\n",
            "Model: syncnet - Subject 0 - Time interval: [20-460]  [20-460 Hz] - Epoch 22: TrL=0.9093, TrA=0.6874, VL=2.6912, VA=0.3085, TeL=2.7109, TeA=0.2979, TeA at max VA = 0.2863 at epoch 18\n",
            "Model: syncnet - Subject 0 - Time interval: [20-460]  [20-460 Hz] - Epoch 23: TrL=0.8563, TrA=0.7177, VL=2.9570, VA=0.3105, TeL=2.9625, TeA=0.2893, TeA at max VA = 0.2863 at epoch 18\n",
            "Model: syncnet - Subject 0 - Time interval: [20-460]  [20-460 Hz] - Epoch 24: TrL=0.8399, TrA=0.7165, VL=2.8720, VA=0.3251, TeL=2.9543, TeA=0.3029, TeA at max VA = 0.3029 at epoch 24\n",
            "Model: syncnet - Subject 0 - Time interval: [20-460]  [20-460 Hz] - Epoch 25: TrL=0.7497, TrA=0.7500, VL=3.0484, VA=0.3125, TeL=3.0887, TeA=0.2903, TeA at max VA = 0.3029 at epoch 24\n",
            "Model: syncnet - Subject 0 - Time interval: [20-460]  [20-460 Hz] - Epoch 26: TrL=0.7577, TrA=0.7481, VL=3.1340, VA=0.3034, TeL=3.2636, TeA=0.2828, TeA at max VA = 0.3029 at epoch 24\n",
            "Model: syncnet - Subject 0 - Time interval: [20-460]  [20-460 Hz] - Epoch 27: TrL=0.6965, TrA=0.7643, VL=3.0530, VA=0.2999, TeL=3.1112, TeA=0.3196, TeA at max VA = 0.3029 at epoch 24\n",
            "Model: syncnet - Subject 0 - Time interval: [20-460]  [20-460 Hz] - Epoch 28: TrL=0.6564, TrA=0.7760, VL=3.3619, VA=0.2954, TeL=3.4225, TeA=0.3019, TeA at max VA = 0.3029 at epoch 24\n",
            "Model: syncnet - Subject 0 - Time interval: [20-460]  [20-460 Hz] - Epoch 29: TrL=0.6213, TrA=0.7954, VL=3.3145, VA=0.3185, TeL=3.3555, TeA=0.3039, TeA at max VA = 0.3029 at epoch 24\n",
            "Model: syncnet - Subject 0 - Time interval: [20-460]  [20-460 Hz] - Epoch 30: TrL=0.6123, TrA=0.7995, VL=3.4765, VA=0.3029, TeL=3.4952, TeA=0.3029, TeA at max VA = 0.3029 at epoch 24\n",
            "Model: syncnet - Subject 0 - Time interval: [20-460]  [20-460 Hz] - Epoch 31: TrL=0.5792, TrA=0.8058, VL=3.4625, VA=0.3075, TeL=3.4611, TeA=0.3110, TeA at max VA = 0.3029 at epoch 24\n",
            "Model: syncnet - Subject 0 - Time interval: [20-460]  [20-460 Hz] - Epoch 32: TrL=0.5939, TrA=0.8029, VL=3.6877, VA=0.2923, TeL=3.7052, TeA=0.2898, TeA at max VA = 0.3029 at epoch 24\n",
            "Model: syncnet - Subject 0 - Time interval: [20-460]  [20-460 Hz] - Epoch 33: TrL=0.5780, TrA=0.8095, VL=3.5395, VA=0.3165, TeL=3.7720, TeA=0.2767, TeA at max VA = 0.3029 at epoch 24\n",
            "Model: syncnet - Subject 0 - Time interval: [20-460]  [20-460 Hz] - Epoch 34: TrL=0.5248, TrA=0.8302, VL=3.6903, VA=0.3165, TeL=3.7090, TeA=0.2999, TeA at max VA = 0.3029 at epoch 24\n",
            "Model: syncnet - Subject 0 - Time interval: [20-460]  [20-460 Hz] - Epoch 35: TrL=0.4967, TrA=0.8290, VL=3.7940, VA=0.3196, TeL=4.0772, TeA=0.2893, TeA at max VA = 0.3029 at epoch 24\n",
            "Model: syncnet - Subject 0 - Time interval: [20-460]  [20-460 Hz] - Epoch 36: TrL=0.4994, TrA=0.8394, VL=3.6862, VA=0.3120, TeL=3.8665, TeA=0.2908, TeA at max VA = 0.3029 at epoch 24\n",
            "Model: syncnet - Subject 0 - Time interval: [20-460]  [20-460 Hz] - Epoch 37: TrL=0.4683, TrA=0.8398, VL=3.8228, VA=0.3211, TeL=3.8926, TeA=0.3024, TeA at max VA = 0.3029 at epoch 24\n",
            "Model: syncnet - Subject 0 - Time interval: [20-460]  [20-460 Hz] - Epoch 38: TrL=0.4742, TrA=0.8460, VL=4.1287, VA=0.3044, TeL=4.2352, TeA=0.2878, TeA at max VA = 0.3029 at epoch 24\n",
            "Model: syncnet - Subject 0 - Time interval: [20-460]  [20-460 Hz] - Epoch 39: TrL=0.4898, TrA=0.8470, VL=4.0286, VA=0.3120, TeL=4.1601, TeA=0.2949, TeA at max VA = 0.3029 at epoch 24\n",
            "Model: syncnet - Subject 0 - Time interval: [20-460]  [20-460 Hz] - Epoch 40: TrL=0.3725, TrA=0.8770, VL=4.2376, VA=0.2923, TeL=4.2577, TeA=0.3039, TeA at max VA = 0.3029 at epoch 24\n",
            "Model: syncnet - Subject 0 - Time interval: [20-460]  [20-460 Hz] - Epoch 41: TrL=0.4406, TrA=0.8534, VL=4.1670, VA=0.3085, TeL=4.3896, TeA=0.2883, TeA at max VA = 0.3029 at epoch 24\n",
            "Model: syncnet - Subject 0 - Time interval: [20-460]  [20-460 Hz] - Epoch 42: TrL=0.3789, TrA=0.8788, VL=4.3091, VA=0.3301, TeL=4.4473, TeA=0.2913, TeA at max VA = 0.2913 at epoch 42\n",
            "Model: syncnet - Subject 0 - Time interval: [20-460]  [20-460 Hz] - Epoch 43: TrL=0.4163, TrA=0.8629, VL=4.1708, VA=0.3054, TeL=4.2997, TeA=0.2989, TeA at max VA = 0.2913 at epoch 42\n",
            "Model: syncnet - Subject 0 - Time interval: [20-460]  [20-460 Hz] - Epoch 44: TrL=0.3726, TrA=0.8778, VL=4.5309, VA=0.3140, TeL=4.6369, TeA=0.3044, TeA at max VA = 0.2913 at epoch 42\n",
            "Model: syncnet - Subject 0 - Time interval: [20-460]  [20-460 Hz] - Epoch 45: TrL=0.4333, TrA=0.8610, VL=4.2903, VA=0.2979, TeL=4.4856, TeA=0.2979, TeA at max VA = 0.2913 at epoch 42\n",
            "Model: syncnet - Subject 0 - Time interval: [20-460]  [20-460 Hz] - Epoch 46: TrL=0.3368, TrA=0.8930, VL=4.6532, VA=0.2979, TeL=4.7728, TeA=0.2944, TeA at max VA = 0.2913 at epoch 42\n",
            "Model: syncnet - Subject 0 - Time interval: [20-460]  [20-460 Hz] - Epoch 47: TrL=0.3251, TrA=0.8935, VL=4.6333, VA=0.3085, TeL=4.5941, TeA=0.3044, TeA at max VA = 0.2913 at epoch 42\n",
            "Model: syncnet - Subject 0 - Time interval: [20-460]  [20-460 Hz] - Epoch 48: TrL=0.4005, TrA=0.8710, VL=4.8269, VA=0.2949, TeL=4.7062, TeA=0.3019, TeA at max VA = 0.2913 at epoch 42\n",
            "Model: syncnet - Subject 0 - Time interval: [20-460]  [20-460 Hz] - Epoch 49: TrL=0.3812, TrA=0.8774, VL=4.6643, VA=0.3080, TeL=4.9511, TeA=0.2828, TeA at max VA = 0.2913 at epoch 42\n",
            "Model: syncnet - Subject 0 - Time interval: [20-460]  [20-460 Hz] - Epoch 50: TrL=0.2793, TrA=0.9068, VL=4.7830, VA=0.3206, TeL=5.0089, TeA=0.2863, TeA at max VA = 0.2913 at epoch 42\n",
            "Model: syncnet - Subject 0 - Time interval: [20-460]  [20-460 Hz] - Epoch 51: TrL=0.3255, TrA=0.8945, VL=5.2962, VA=0.2772, TeL=5.1617, TeA=0.2969, TeA at max VA = 0.2913 at epoch 42\n",
            "Model: syncnet - Subject 0 - Time interval: [20-460]  [20-460 Hz] - Epoch 52: TrL=0.3167, TrA=0.8940, VL=5.2535, VA=0.2923, TeL=5.3251, TeA=0.2908, TeA at max VA = 0.2913 at epoch 42\n",
            "Model: syncnet - Subject 0 - Time interval: [20-460]  [20-460 Hz] - Epoch 53: TrL=0.3612, TrA=0.8883, VL=5.3259, VA=0.2888, TeL=5.4998, TeA=0.2787, TeA at max VA = 0.2913 at epoch 42\n",
            "Model: syncnet - Subject 0 - Time interval: [20-460]  [20-460 Hz] - Epoch 54: TrL=0.3062, TrA=0.9005, VL=4.9890, VA=0.3039, TeL=5.1625, TeA=0.3004, TeA at max VA = 0.2913 at epoch 42\n",
            "Model: syncnet - Subject 0 - Time interval: [20-460]  [20-460 Hz] - Epoch 55: TrL=0.2707, TrA=0.9111, VL=5.5364, VA=0.2858, TeL=5.3784, TeA=0.2989, TeA at max VA = 0.2913 at epoch 42\n",
            "Model: syncnet - Subject 0 - Time interval: [20-460]  [20-460 Hz] - Epoch 56: TrL=0.3643, TrA=0.8818, VL=5.7041, VA=0.2888, TeL=5.7469, TeA=0.2787, TeA at max VA = 0.2913 at epoch 42\n",
            "Model: syncnet - Subject 0 - Time interval: [20-460]  [20-460 Hz] - Epoch 57: TrL=0.2673, TrA=0.9123, VL=5.0634, VA=0.3165, TeL=5.2915, TeA=0.3034, TeA at max VA = 0.2913 at epoch 42\n",
            "Model: syncnet - Subject 0 - Time interval: [20-460]  [20-460 Hz] - Epoch 58: TrL=0.2851, TrA=0.9072, VL=5.3417, VA=0.3049, TeL=5.6159, TeA=0.2939, TeA at max VA = 0.2913 at epoch 42\n",
            "Model: syncnet - Subject 0 - Time interval: [20-460]  [20-460 Hz] - Epoch 59: TrL=0.3118, TrA=0.9018, VL=5.3735, VA=0.3024, TeL=5.3313, TeA=0.3165, TeA at max VA = 0.2913 at epoch 42\n",
            "Model: syncnet - Subject 0 - Time interval: [20-460]  [20-460 Hz] - Epoch 60: TrL=0.2439, TrA=0.9196, VL=5.4529, VA=0.3090, TeL=5.5688, TeA=0.3135, TeA at max VA = 0.2913 at epoch 42\n",
            "Model: syncnet - Subject 0 - Time interval: [20-460]  [20-460 Hz] - Epoch 61: TrL=0.2744, TrA=0.9134, VL=5.8088, VA=0.2883, TeL=6.0072, TeA=0.2828, TeA at max VA = 0.2913 at epoch 42\n",
            "Model: syncnet - Subject 0 - Time interval: [20-460]  [20-460 Hz] - Epoch 62: TrL=0.2831, TrA=0.9179, VL=5.6287, VA=0.3075, TeL=5.6906, TeA=0.2853, TeA at max VA = 0.2913 at epoch 42\n",
            "Model: syncnet - Subject 0 - Time interval: [20-460]  [20-460 Hz] - Epoch 63: TrL=0.2894, TrA=0.9082, VL=6.0502, VA=0.2999, TeL=6.3725, TeA=0.2702, TeA at max VA = 0.2913 at epoch 42\n",
            "Model: syncnet - Subject 0 - Time interval: [20-460]  [20-460 Hz] - Epoch 64: TrL=0.3219, TrA=0.8991, VL=5.8509, VA=0.2979, TeL=5.8503, TeA=0.2903, TeA at max VA = 0.2913 at epoch 42\n",
            "Model: syncnet - Subject 0 - Time interval: [20-460]  [20-460 Hz] - Epoch 65: TrL=0.2422, TrA=0.9254, VL=5.5475, VA=0.3231, TeL=5.7033, TeA=0.2959, TeA at max VA = 0.2913 at epoch 42\n",
            "Model: syncnet - Subject 0 - Time interval: [20-460]  [20-460 Hz] - Epoch 66: TrL=0.1774, TrA=0.9440, VL=6.1415, VA=0.3095, TeL=6.2134, TeA=0.2858, TeA at max VA = 0.2913 at epoch 42\n",
            "Model: syncnet - Subject 0 - Time interval: [20-460]  [20-460 Hz] - Epoch 67: TrL=0.2428, TrA=0.9224, VL=5.8689, VA=0.3165, TeL=5.9282, TeA=0.2964, TeA at max VA = 0.2913 at epoch 42\n",
            "Model: syncnet - Subject 0 - Time interval: [20-460]  [20-460 Hz] - Epoch 68: TrL=0.2975, TrA=0.9091, VL=6.2861, VA=0.3019, TeL=6.1718, TeA=0.2898, TeA at max VA = 0.2913 at epoch 42\n",
            "Model: syncnet - Subject 0 - Time interval: [20-460]  [20-460 Hz] - Epoch 69: TrL=0.2934, TrA=0.9066, VL=5.6747, VA=0.3065, TeL=5.9419, TeA=0.2979, TeA at max VA = 0.2913 at epoch 42\n",
            "Model: syncnet - Subject 0 - Time interval: [20-460]  [20-460 Hz] - Epoch 70: TrL=0.2030, TrA=0.9381, VL=6.1882, VA=0.3039, TeL=6.4954, TeA=0.2818, TeA at max VA = 0.2913 at epoch 42\n",
            "Model: syncnet - Subject 0 - Time interval: [20-460]  [20-460 Hz] - Epoch 71: TrL=0.2343, TrA=0.9269, VL=6.1648, VA=0.2888, TeL=6.3820, TeA=0.2848, TeA at max VA = 0.2913 at epoch 42\n",
            "Model: syncnet - Subject 0 - Time interval: [20-460]  [20-460 Hz] - Epoch 72: TrL=0.1548, TrA=0.9503, VL=6.5264, VA=0.2974, TeL=6.6140, TeA=0.2883, TeA at max VA = 0.2913 at epoch 42\n",
            "Model: syncnet - Subject 0 - Time interval: [20-460]  [20-460 Hz] - Epoch 73: TrL=0.3805, TrA=0.8871, VL=6.3638, VA=0.3039, TeL=6.3491, TeA=0.3024, TeA at max VA = 0.2913 at epoch 42\n",
            "Model: syncnet - Subject 0 - Time interval: [20-460]  [20-460 Hz] - Epoch 74: TrL=0.1834, TrA=0.9403, VL=5.9144, VA=0.3191, TeL=6.3029, TeA=0.3110, TeA at max VA = 0.2913 at epoch 42\n",
            "Model: syncnet - Subject 0 - Time interval: [20-460]  [20-460 Hz] - Epoch 75: TrL=0.2246, TrA=0.9317, VL=6.4669, VA=0.2913, TeL=6.6620, TeA=0.2787, TeA at max VA = 0.2913 at epoch 42\n",
            "Model: syncnet - Subject 0 - Time interval: [20-460]  [20-460 Hz] - Epoch 76: TrL=0.2321, TrA=0.9289, VL=6.4693, VA=0.3135, TeL=6.8353, TeA=0.2818, TeA at max VA = 0.2913 at epoch 42\n",
            "Model: syncnet - Subject 0 - Time interval: [20-460]  [20-460 Hz] - Epoch 77: TrL=0.2080, TrA=0.9342, VL=6.6728, VA=0.2903, TeL=6.7500, TeA=0.2923, TeA at max VA = 0.2913 at epoch 42\n",
            "Model: syncnet - Subject 0 - Time interval: [20-460]  [20-460 Hz] - Epoch 78: TrL=0.2126, TrA=0.9335, VL=6.7513, VA=0.3054, TeL=6.8539, TeA=0.2697, TeA at max VA = 0.2913 at epoch 42\n",
            "Model: syncnet - Subject 0 - Time interval: [20-460]  [20-460 Hz] - Epoch 79: TrL=0.2961, TrA=0.9093, VL=6.2936, VA=0.3180, TeL=6.5638, TeA=0.2908, TeA at max VA = 0.2913 at epoch 42\n",
            "Model: syncnet - Subject 0 - Time interval: [20-460]  [20-460 Hz] - Epoch 80: TrL=0.1993, TrA=0.9389, VL=6.6557, VA=0.3070, TeL=6.8973, TeA=0.2807, TeA at max VA = 0.2913 at epoch 42\n",
            "Model: syncnet - Subject 0 - Time interval: [20-460]  [20-460 Hz] - Epoch 81: TrL=0.3166, TrA=0.9159, VL=6.4243, VA=0.3125, TeL=6.4790, TeA=0.3049, TeA at max VA = 0.2913 at epoch 42\n",
            "Model: syncnet - Subject 0 - Time interval: [20-460]  [20-460 Hz] - Epoch 82: TrL=0.1786, TrA=0.9425, VL=6.6864, VA=0.3105, TeL=6.5577, TeA=0.3049, TeA at max VA = 0.2913 at epoch 42\n",
            "Model: syncnet - Subject 0 - Time interval: [20-460]  [20-460 Hz] - Epoch 83: TrL=0.2886, TrA=0.9195, VL=7.0567, VA=0.2969, TeL=7.2120, TeA=0.2818, TeA at max VA = 0.2913 at epoch 42\n",
            "Model: syncnet - Subject 0 - Time interval: [20-460]  [20-460 Hz] - Epoch 84: TrL=0.1713, TrA=0.9444, VL=6.7531, VA=0.3175, TeL=7.0410, TeA=0.2944, TeA at max VA = 0.2913 at epoch 42\n",
            "Model: syncnet - Subject 0 - Time interval: [20-460]  [20-460 Hz] - Epoch 85: TrL=0.2034, TrA=0.9356, VL=6.8636, VA=0.3029, TeL=7.2507, TeA=0.2797, TeA at max VA = 0.2913 at epoch 42\n",
            "Model: syncnet - Subject 0 - Time interval: [20-460]  [20-460 Hz] - Epoch 86: TrL=0.2140, TrA=0.9374, VL=7.2072, VA=0.3019, TeL=7.4182, TeA=0.2722, TeA at max VA = 0.2913 at epoch 42\n",
            "Model: syncnet - Subject 0 - Time interval: [20-460]  [20-460 Hz] - Epoch 87: TrL=0.2792, TrA=0.9201, VL=6.9286, VA=0.3014, TeL=7.1722, TeA=0.2843, TeA at max VA = 0.2913 at epoch 42\n",
            "Model: syncnet - Subject 0 - Time interval: [20-460]  [20-460 Hz] - Epoch 88: TrL=0.1584, TrA=0.9516, VL=7.2966, VA=0.2878, TeL=7.3446, TeA=0.2853, TeA at max VA = 0.2913 at epoch 42\n",
            "Model: syncnet - Subject 0 - Time interval: [20-460]  [20-460 Hz] - Epoch 89: TrL=0.2240, TrA=0.9308, VL=7.1333, VA=0.3080, TeL=7.3333, TeA=0.2848, TeA at max VA = 0.2913 at epoch 42\n",
            "Model: syncnet - Subject 0 - Time interval: [20-460]  [20-460 Hz] - Epoch 90: TrL=0.2073, TrA=0.9416, VL=7.8486, VA=0.2923, TeL=7.8728, TeA=0.2732, TeA at max VA = 0.2913 at epoch 42\n",
            "Model: syncnet - Subject 0 - Time interval: [20-460]  [20-460 Hz] - Epoch 91: TrL=0.2601, TrA=0.9244, VL=7.2895, VA=0.2918, TeL=7.5154, TeA=0.3009, TeA at max VA = 0.2913 at epoch 42\n",
            "Model: syncnet - Subject 0 - Time interval: [20-460]  [20-460 Hz] - Epoch 92: TrL=0.1482, TrA=0.9547, VL=7.1127, VA=0.3135, TeL=7.6113, TeA=0.2807, TeA at max VA = 0.2913 at epoch 42\n",
            "Model: syncnet - Subject 0 - Time interval: [20-460]  [20-460 Hz] - Epoch 93: TrL=0.2550, TrA=0.9271, VL=7.0536, VA=0.3150, TeL=7.0996, TeA=0.3024, TeA at max VA = 0.2913 at epoch 42\n",
            "Model: syncnet - Subject 0 - Time interval: [20-460]  [20-460 Hz] - Epoch 94: TrL=0.2768, TrA=0.9230, VL=7.0697, VA=0.3054, TeL=7.5081, TeA=0.2863, TeA at max VA = 0.2913 at epoch 42\n",
            "Model: syncnet - Subject 0 - Time interval: [20-460]  [20-460 Hz] - Epoch 95: TrL=0.1622, TrA=0.9533, VL=7.9052, VA=0.2717, TeL=7.8314, TeA=0.2802, TeA at max VA = 0.2913 at epoch 42\n",
            "Model: syncnet - Subject 0 - Time interval: [20-460]  [20-460 Hz] - Epoch 96: TrL=0.2568, TrA=0.9287, VL=7.1497, VA=0.3160, TeL=7.4333, TeA=0.2903, TeA at max VA = 0.2913 at epoch 42\n",
            "Model: syncnet - Subject 0 - Time interval: [20-460]  [20-460 Hz] - Epoch 97: TrL=0.1191, TrA=0.9662, VL=7.0745, VA=0.3029, TeL=7.5108, TeA=0.2944, TeA at max VA = 0.2913 at epoch 42\n",
            "Model: syncnet - Subject 0 - Time interval: [20-460]  [20-460 Hz] - Epoch 98: TrL=0.1329, TrA=0.9581, VL=7.9522, VA=0.2923, TeL=8.0618, TeA=0.2928, TeA at max VA = 0.2913 at epoch 42\n",
            "Model: syncnet - Subject 0 - Time interval: [20-460]  [20-460 Hz] - Epoch 99: TrL=0.3213, TrA=0.9081, VL=7.5314, VA=0.3075, TeL=7.5251, TeA=0.2939, TeA at max VA = 0.2913 at epoch 42\n",
            "Model: syncnet - Subject 0 - Time interval: [20-460]  [20-460 Hz] - Epoch 100: TrL=0.1601, TrA=0.9507, VL=7.4328, VA=0.2913, TeL=7.7851, TeA=0.2848, TeA at max VA = 0.2913 at epoch 42\n",
            "Model: syncnet - Subject 0 - Time interval: [20-460]  [20-460 Hz] - Epoch 101: TrL=0.1945, TrA=0.9418, VL=7.8707, VA=0.2868, TeL=7.9182, TeA=0.2873, TeA at max VA = 0.2913 at epoch 42\n",
            "Model: syncnet - Subject 0 - Time interval: [20-460]  [20-460 Hz] - Epoch 102: TrL=0.1593, TrA=0.9515, VL=8.3791, VA=0.2742, TeL=8.3413, TeA=0.2681, TeA at max VA = 0.2913 at epoch 42\n",
            "Model: syncnet - Subject 0 - Time interval: [20-460]  [20-460 Hz] - Epoch 103: TrL=0.3318, TrA=0.9116, VL=7.9393, VA=0.3075, TeL=8.0759, TeA=0.2878, TeA at max VA = 0.2913 at epoch 42\n",
            "Model: syncnet - Subject 0 - Time interval: [20-460]  [20-460 Hz] - Epoch 104: TrL=0.1763, TrA=0.9503, VL=7.9057, VA=0.3004, TeL=8.2016, TeA=0.2868, TeA at max VA = 0.2913 at epoch 42\n",
            "Model: syncnet - Subject 0 - Time interval: [20-460]  [20-460 Hz] - Epoch 105: TrL=0.1428, TrA=0.9609, VL=7.8095, VA=0.3160, TeL=8.0574, TeA=0.2833, TeA at max VA = 0.2913 at epoch 42\n",
            "Model: syncnet - Subject 0 - Time interval: [20-460]  [20-460 Hz] - Epoch 106: TrL=0.2685, TrA=0.9296, VL=8.4603, VA=0.2863, TeL=8.2624, TeA=0.2833, TeA at max VA = 0.2913 at epoch 42\n",
            "Model: syncnet - Subject 0 - Time interval: [20-460]  [20-460 Hz] - Epoch 107: TrL=0.3064, TrA=0.9139, VL=7.9450, VA=0.3024, TeL=8.2559, TeA=0.2863, TeA at max VA = 0.2913 at epoch 42\n",
            "Model: syncnet - Subject 0 - Time interval: [20-460]  [20-460 Hz] - Epoch 108: TrL=0.1454, TrA=0.9575, VL=7.9593, VA=0.3039, TeL=8.2912, TeA=0.2828, TeA at max VA = 0.2913 at epoch 42\n",
            "Model: syncnet - Subject 0 - Time interval: [20-460]  [20-460 Hz] - Epoch 109: TrL=0.2687, TrA=0.9259, VL=8.6695, VA=0.2853, TeL=8.6059, TeA=0.2792, TeA at max VA = 0.2913 at epoch 42\n",
            "Model: syncnet - Subject 0 - Time interval: [20-460]  [20-460 Hz] - Epoch 110: TrL=0.1271, TrA=0.9615, VL=7.8381, VA=0.3165, TeL=7.9879, TeA=0.2939, TeA at max VA = 0.2913 at epoch 42\n",
            "Model: syncnet - Subject 0 - Time interval: [20-460]  [20-460 Hz] - Epoch 111: TrL=0.0312, TrA=0.9907, VL=8.0254, VA=0.3105, TeL=8.2427, TeA=0.2883, TeA at max VA = 0.2913 at epoch 42\n",
            "Model: syncnet - Subject 0 - Time interval: [20-460]  [20-460 Hz] - Epoch 112: TrL=0.3450, TrA=0.9132, VL=8.5047, VA=0.2903, TeL=8.3737, TeA=0.2812, TeA at max VA = 0.2913 at epoch 42\n",
            "Model: syncnet - Subject 0 - Time interval: [20-460]  [20-460 Hz] - Epoch 113: TrL=0.1666, TrA=0.9535, VL=8.6078, VA=0.2949, TeL=8.5055, TeA=0.2797, TeA at max VA = 0.2913 at epoch 42\n",
            "Model: syncnet - Subject 0 - Time interval: [20-460]  [20-460 Hz] - Epoch 114: TrL=0.1828, TrA=0.9474, VL=8.4067, VA=0.2928, TeL=8.5673, TeA=0.2848, TeA at max VA = 0.2913 at epoch 42\n",
            "Model: syncnet - Subject 0 - Time interval: [20-460]  [20-460 Hz] - Epoch 115: TrL=0.3118, TrA=0.9247, VL=8.5843, VA=0.2974, TeL=8.6096, TeA=0.2812, TeA at max VA = 0.2913 at epoch 42\n",
            "Model: syncnet - Subject 0 - Time interval: [20-460]  [20-460 Hz] - Epoch 116: TrL=0.1316, TrA=0.9586, VL=8.3248, VA=0.3090, TeL=8.4718, TeA=0.2969, TeA at max VA = 0.2913 at epoch 42\n",
            "Model: syncnet - Subject 0 - Time interval: [20-460]  [20-460 Hz] - Epoch 117: TrL=0.1207, TrA=0.9665, VL=9.2109, VA=0.2933, TeL=9.0339, TeA=0.2873, TeA at max VA = 0.2913 at epoch 42\n",
            "Model: syncnet - Subject 0 - Time interval: [20-460]  [20-460 Hz] - Epoch 118: TrL=0.1481, TrA=0.9555, VL=9.0061, VA=0.2979, TeL=9.0253, TeA=0.2823, TeA at max VA = 0.2913 at epoch 42\n",
            "Model: syncnet - Subject 0 - Time interval: [20-460]  [20-460 Hz] - Epoch 119: TrL=0.3140, TrA=0.9166, VL=8.2955, VA=0.3044, TeL=8.5070, TeA=0.2883, TeA at max VA = 0.2913 at epoch 42\n",
            "Model: syncnet - Subject 0 - Time interval: [20-460]  [20-460 Hz] - Epoch 120: TrL=0.0920, TrA=0.9728, VL=9.8822, VA=0.2828, TeL=9.8569, TeA=0.2737, TeA at max VA = 0.2913 at epoch 42\n",
            "Model: syncnet - Subject 0 - Time interval: [20-460]  [20-460 Hz] - Epoch 121: TrL=0.2633, TrA=0.9276, VL=8.9063, VA=0.2883, TeL=9.0969, TeA=0.2656, TeA at max VA = 0.2913 at epoch 42\n",
            "Model: syncnet - Subject 0 - Time interval: [20-460]  [20-460 Hz] - Epoch 122: TrL=0.1434, TrA=0.9588, VL=9.5188, VA=0.2807, TeL=9.7816, TeA=0.2812, TeA at max VA = 0.2913 at epoch 42\n",
            "Model: syncnet - Subject 0 - Time interval: [20-460]  [20-460 Hz] - Epoch 123: TrL=0.2611, TrA=0.9318, VL=8.9029, VA=0.3014, TeL=9.3777, TeA=0.2762, TeA at max VA = 0.2913 at epoch 42\n",
            "Model: syncnet - Subject 0 - Time interval: [20-460]  [20-460 Hz] - Epoch 124: TrL=0.1210, TrA=0.9640, VL=8.4607, VA=0.3140, TeL=8.4876, TeA=0.2908, TeA at max VA = 0.2913 at epoch 42\n",
            "Model: syncnet - Subject 0 - Time interval: [20-460]  [20-460 Hz] - Epoch 125: TrL=0.2027, TrA=0.9498, VL=9.2904, VA=0.2939, TeL=8.8922, TeA=0.2984, TeA at max VA = 0.2913 at epoch 42\n",
            "Model: syncnet - Subject 0 - Time interval: [20-460]  [20-460 Hz] - Epoch 126: TrL=0.2895, TrA=0.9243, VL=9.2810, VA=0.2969, TeL=9.4054, TeA=0.2802, TeA at max VA = 0.2913 at epoch 42\n",
            "Model: syncnet - Subject 0 - Time interval: [20-460]  [20-460 Hz] - Epoch 127: TrL=0.2052, TrA=0.9443, VL=9.0291, VA=0.3049, TeL=9.0042, TeA=0.2939, TeA at max VA = 0.2913 at epoch 42\n",
            "Model: syncnet - Subject 0 - Time interval: [20-460]  [20-460 Hz] - Epoch 128: TrL=0.1076, TrA=0.9681, VL=9.1733, VA=0.3004, TeL=9.4043, TeA=0.2848, TeA at max VA = 0.2913 at epoch 42\n",
            "Model: syncnet - Subject 0 - Time interval: [20-460]  [20-460 Hz] - Epoch 129: TrL=0.2705, TrA=0.9263, VL=9.3198, VA=0.2848, TeL=9.5968, TeA=0.2772, TeA at max VA = 0.2913 at epoch 42\n",
            "Model: syncnet - Subject 0 - Time interval: [20-460]  [20-460 Hz] - Epoch 130: TrL=0.1245, TrA=0.9619, VL=9.3719, VA=0.2893, TeL=9.0963, TeA=0.2893, TeA at max VA = 0.2913 at epoch 42\n",
            "Model: syncnet - Subject 0 - Time interval: [20-460]  [20-460 Hz] - Epoch 131: TrL=0.0829, TrA=0.9772, VL=9.9302, VA=0.2949, TeL=9.9113, TeA=0.2939, TeA at max VA = 0.2913 at epoch 42\n",
            "Model: syncnet - Subject 0 - Time interval: [20-460]  [20-460 Hz] - Epoch 132: TrL=0.2509, TrA=0.9335, VL=9.5491, VA=0.2984, TeL=9.7287, TeA=0.2918, TeA at max VA = 0.2913 at epoch 42\n",
            "Model: syncnet - Subject 0 - Time interval: [20-460]  [20-460 Hz] - Epoch 133: TrL=0.2286, TrA=0.9393, VL=9.1398, VA=0.2898, TeL=9.2786, TeA=0.2807, TeA at max VA = 0.2913 at epoch 42\n",
            "Model: syncnet - Subject 0 - Time interval: [20-460]  [20-460 Hz] - Epoch 134: TrL=0.1879, TrA=0.9511, VL=9.6371, VA=0.3004, TeL=9.3878, TeA=0.2838, TeA at max VA = 0.2913 at epoch 42\n",
            "Model: syncnet - Subject 0 - Time interval: [20-460]  [20-460 Hz] - Epoch 135: TrL=0.1836, TrA=0.9523, VL=9.4950, VA=0.3004, TeL=9.5458, TeA=0.3039, TeA at max VA = 0.2913 at epoch 42\n",
            "Model: syncnet - Subject 0 - Time interval: [20-460]  [20-460 Hz] - Epoch 136: TrL=0.1928, TrA=0.9508, VL=9.9074, VA=0.3009, TeL=10.0006, TeA=0.2707, TeA at max VA = 0.2913 at epoch 42\n",
            "Model: syncnet - Subject 0 - Time interval: [20-460]  [20-460 Hz] - Epoch 137: TrL=0.2677, TrA=0.9327, VL=9.0700, VA=0.2908, TeL=9.0586, TeA=0.2928, TeA at max VA = 0.2913 at epoch 42\n",
            "Model: syncnet - Subject 0 - Time interval: [20-460]  [20-460 Hz] - Epoch 138: TrL=0.1181, TrA=0.9681, VL=9.8625, VA=0.2933, TeL=10.0991, TeA=0.2848, TeA at max VA = 0.2913 at epoch 42\n",
            "Model: syncnet - Subject 0 - Time interval: [20-460]  [20-460 Hz] - Epoch 139: TrL=0.1400, TrA=0.9625, VL=10.5400, VA=0.2908, TeL=10.5722, TeA=0.2732, TeA at max VA = 0.2913 at epoch 42\n",
            "Model: syncnet - Subject 0 - Time interval: [20-460]  [20-460 Hz] - Epoch 140: TrL=0.2642, TrA=0.9367, VL=9.0488, VA=0.3180, TeL=9.2517, TeA=0.3019, TeA at max VA = 0.2913 at epoch 42\n",
            "Model: syncnet - Subject 0 - Time interval: [20-460]  [20-460 Hz] - Epoch 141: TrL=0.1095, TrA=0.9715, VL=9.3747, VA=0.3100, TeL=9.5846, TeA=0.2928, TeA at max VA = 0.2913 at epoch 42\n",
            "Model: syncnet - Subject 0 - Time interval: [20-460]  [20-460 Hz] - Epoch 142: TrL=0.2983, TrA=0.9279, VL=9.4614, VA=0.3065, TeL=10.1655, TeA=0.2823, TeA at max VA = 0.2913 at epoch 42\n",
            "Model: syncnet - Subject 0 - Time interval: [20-460]  [20-460 Hz] - Epoch 143: TrL=0.0920, TrA=0.9736, VL=9.4543, VA=0.3135, TeL=9.6551, TeA=0.2923, TeA at max VA = 0.2913 at epoch 42\n",
            "Model: syncnet - Subject 0 - Time interval: [20-460]  [20-460 Hz] - Epoch 144: TrL=0.2923, TrA=0.9350, VL=9.9459, VA=0.2777, TeL=10.1726, TeA=0.2878, TeA at max VA = 0.2913 at epoch 42\n",
            "Model: syncnet - Subject 0 - Time interval: [20-460]  [20-460 Hz] - Epoch 145: TrL=0.1825, TrA=0.9510, VL=9.8807, VA=0.2964, TeL=9.8031, TeA=0.2818, TeA at max VA = 0.2913 at epoch 42\n",
            "Model: syncnet - Subject 0 - Time interval: [20-460]  [20-460 Hz] - Epoch 146: TrL=0.1032, TrA=0.9707, VL=9.7964, VA=0.3019, TeL=10.3426, TeA=0.2999, TeA at max VA = 0.2913 at epoch 42\n",
            "Model: syncnet - Subject 0 - Time interval: [20-460]  [20-460 Hz] - Epoch 147: TrL=0.2420, TrA=0.9350, VL=9.8679, VA=0.3049, TeL=10.1144, TeA=0.2888, TeA at max VA = 0.2913 at epoch 42\n",
            "Model: syncnet - Subject 0 - Time interval: [20-460]  [20-460 Hz] - Epoch 148: TrL=0.2115, TrA=0.9488, VL=9.8480, VA=0.3029, TeL=10.1504, TeA=0.2878, TeA at max VA = 0.2913 at epoch 42\n",
            "Model: syncnet - Subject 0 - Time interval: [20-460]  [20-460 Hz] - Epoch 149: TrL=0.1409, TrA=0.9627, VL=9.5715, VA=0.2933, TeL=9.8632, TeA=0.2818, TeA at max VA = 0.2913 at epoch 42\n",
            "Model: syncnet - Subject 0 - Time interval: [20-460]  [20-460 Hz] - Epoch 150: TrL=0.1302, TrA=0.9649, VL=9.8744, VA=0.2974, TeL=9.9483, TeA=0.2787, TeA at max VA = 0.2913 at epoch 42\n",
            "Model: syncnet - Subject 0 - Time interval: [20-460]  [20-460 Hz] - Epoch 151: TrL=0.1932, TrA=0.9518, VL=12.5058, VA=0.2571, TeL=12.1604, TeA=0.2646, TeA at max VA = 0.2913 at epoch 42\n",
            "Model: syncnet - Subject 0 - Time interval: [20-460]  [20-460 Hz] - Epoch 152: TrL=0.2496, TrA=0.9367, VL=10.4051, VA=0.3004, TeL=10.5138, TeA=0.2979, TeA at max VA = 0.2913 at epoch 42\n",
            "Model: syncnet - Subject 0 - Time interval: [20-460]  [20-460 Hz] - Epoch 153: TrL=0.1366, TrA=0.9640, VL=10.1538, VA=0.3125, TeL=10.2613, TeA=0.2964, TeA at max VA = 0.2913 at epoch 42\n",
            "Model: syncnet - Subject 0 - Time interval: [20-460]  [20-460 Hz] - Epoch 154: TrL=0.1783, TrA=0.9510, VL=10.7107, VA=0.3004, TeL=11.0762, TeA=0.2792, TeA at max VA = 0.2913 at epoch 42\n",
            "Model: syncnet - Subject 0 - Time interval: [20-460]  [20-460 Hz] - Epoch 155: TrL=0.1721, TrA=0.9580, VL=10.6587, VA=0.2969, TeL=10.6374, TeA=0.2707, TeA at max VA = 0.2913 at epoch 42\n",
            "Model: syncnet - Subject 0 - Time interval: [20-460]  [20-460 Hz] - Epoch 156: TrL=0.2781, TrA=0.9352, VL=10.7537, VA=0.2984, TeL=10.7604, TeA=0.2868, TeA at max VA = 0.2913 at epoch 42\n",
            "Model: syncnet - Subject 0 - Time interval: [20-460]  [20-460 Hz] - Epoch 157: TrL=0.0860, TrA=0.9766, VL=10.2711, VA=0.3039, TeL=10.1285, TeA=0.2954, TeA at max VA = 0.2913 at epoch 42\n",
            "Model: syncnet - Subject 0 - Time interval: [20-460]  [20-460 Hz] - Epoch 158: TrL=0.0653, TrA=0.9834, VL=11.0196, VA=0.2868, TeL=11.4318, TeA=0.2903, TeA at max VA = 0.2913 at epoch 42\n",
            "Model: syncnet - Subject 0 - Time interval: [20-460]  [20-460 Hz] - Epoch 159: TrL=0.3393, TrA=0.9196, VL=11.0697, VA=0.2802, TeL=10.9129, TeA=0.2792, TeA at max VA = 0.2913 at epoch 42\n",
            "Model: syncnet - Subject 0 - Time interval: [20-460]  [20-460 Hz] - Epoch 160: TrL=0.2580, TrA=0.9367, VL=10.4588, VA=0.3175, TeL=10.4951, TeA=0.2928, TeA at max VA = 0.2913 at epoch 42\n",
            "Model: syncnet - Subject 0 - Time interval: [20-460]  [20-460 Hz] - Epoch 161: TrL=0.1396, TrA=0.9648, VL=10.5270, VA=0.3049, TeL=10.4227, TeA=0.2883, TeA at max VA = 0.2913 at epoch 42\n",
            "Model: syncnet - Subject 0 - Time interval: [20-460]  [20-460 Hz] - Epoch 162: TrL=0.1611, TrA=0.9561, VL=10.0551, VA=0.3080, TeL=10.0591, TeA=0.2964, TeA at max VA = 0.2913 at epoch 42\n",
            "Model: syncnet - Subject 0 - Time interval: [20-460]  [20-460 Hz] - Epoch 163: TrL=0.0762, TrA=0.9779, VL=10.6796, VA=0.2913, TeL=10.6362, TeA=0.2878, TeA at max VA = 0.2913 at epoch 42\n",
            "Model: syncnet - Subject 0 - Time interval: [20-460]  [20-460 Hz] - Epoch 164: TrL=0.2198, TrA=0.9464, VL=11.1662, VA=0.2888, TeL=11.0565, TeA=0.2888, TeA at max VA = 0.2913 at epoch 42\n",
            "Model: syncnet - Subject 0 - Time interval: [20-460]  [20-460 Hz] - Epoch 165: TrL=0.1918, TrA=0.9494, VL=10.3419, VA=0.2923, TeL=10.5478, TeA=0.2944, TeA at max VA = 0.2913 at epoch 42\n",
            "Model: syncnet - Subject 0 - Time interval: [20-460]  [20-460 Hz] - Epoch 166: TrL=0.1331, TrA=0.9664, VL=11.0088, VA=0.2994, TeL=11.2259, TeA=0.2843, TeA at max VA = 0.2913 at epoch 42\n",
            "Model: syncnet - Subject 0 - Time interval: [20-460]  [20-460 Hz] - Epoch 167: TrL=0.2145, TrA=0.9424, VL=10.7163, VA=0.2959, TeL=11.0346, TeA=0.2797, TeA at max VA = 0.2913 at epoch 42\n",
            "Model: syncnet - Subject 0 - Time interval: [20-460]  [20-460 Hz] - Epoch 168: TrL=0.1193, TrA=0.9704, VL=10.9043, VA=0.2772, TeL=10.8422, TeA=0.2843, TeA at max VA = 0.2913 at epoch 42\n",
            "Model: syncnet - Subject 0 - Time interval: [20-460]  [20-460 Hz] - Epoch 169: TrL=0.1761, TrA=0.9555, VL=11.2419, VA=0.2949, TeL=11.0449, TeA=0.2777, TeA at max VA = 0.2913 at epoch 42\n",
            "Model: syncnet - Subject 0 - Time interval: [20-460]  [20-460 Hz] - Epoch 170: TrL=0.1924, TrA=0.9502, VL=11.2583, VA=0.2989, TeL=11.0291, TeA=0.2858, TeA at max VA = 0.2913 at epoch 42\n",
            "Model: syncnet - Subject 0 - Time interval: [20-460]  [20-460 Hz] - Epoch 171: TrL=0.1602, TrA=0.9572, VL=11.7096, VA=0.3024, TeL=11.6012, TeA=0.2787, TeA at max VA = 0.2913 at epoch 42\n",
            "Model: syncnet - Subject 0 - Time interval: [20-460]  [20-460 Hz] - Epoch 172: TrL=0.1506, TrA=0.9574, VL=11.8616, VA=0.2782, TeL=11.1127, TeA=0.2883, TeA at max VA = 0.2913 at epoch 42\n",
            "Model: syncnet - Subject 0 - Time interval: [20-460]  [20-460 Hz] - Epoch 173: TrL=0.1776, TrA=0.9549, VL=11.6703, VA=0.2848, TeL=11.1837, TeA=0.2843, TeA at max VA = 0.2913 at epoch 42\n",
            "Model: syncnet - Subject 0 - Time interval: [20-460]  [20-460 Hz] - Epoch 174: TrL=0.1341, TrA=0.9649, VL=11.8629, VA=0.2908, TeL=11.5654, TeA=0.2767, TeA at max VA = 0.2913 at epoch 42\n",
            "Model: syncnet - Subject 0 - Time interval: [20-460]  [20-460 Hz] - Epoch 175: TrL=0.1473, TrA=0.9601, VL=11.6475, VA=0.2964, TeL=11.4447, TeA=0.2918, TeA at max VA = 0.2913 at epoch 42\n",
            "Model: syncnet - Subject 0 - Time interval: [20-460]  [20-460 Hz] - Epoch 176: TrL=0.2328, TrA=0.9478, VL=11.6963, VA=0.2843, TeL=11.5084, TeA=0.3044, TeA at max VA = 0.2913 at epoch 42\n",
            "Model: syncnet - Subject 0 - Time interval: [20-460]  [20-460 Hz] - Epoch 177: TrL=0.1786, TrA=0.9535, VL=11.1479, VA=0.2908, TeL=11.3092, TeA=0.2933, TeA at max VA = 0.2913 at epoch 42\n",
            "Model: syncnet - Subject 0 - Time interval: [20-460]  [20-460 Hz] - Epoch 178: TrL=0.0348, TrA=0.9904, VL=11.0664, VA=0.2954, TeL=11.1514, TeA=0.2838, TeA at max VA = 0.2913 at epoch 42\n",
            "Model: syncnet - Subject 0 - Time interval: [20-460]  [20-460 Hz] - Epoch 179: TrL=0.2691, TrA=0.9435, VL=12.1783, VA=0.2812, TeL=12.5788, TeA=0.2697, TeA at max VA = 0.2913 at epoch 42\n",
            "Model: syncnet - Subject 0 - Time interval: [20-460]  [20-460 Hz] - Epoch 180: TrL=0.2777, TrA=0.9317, VL=12.2566, VA=0.2742, TeL=12.1818, TeA=0.2712, TeA at max VA = 0.2913 at epoch 42\n",
            "Model: syncnet - Subject 0 - Time interval: [20-460]  [20-460 Hz] - Epoch 181: TrL=0.1425, TrA=0.9664, VL=11.9225, VA=0.2908, TeL=11.8828, TeA=0.2918, TeA at max VA = 0.2913 at epoch 42\n",
            "Model: syncnet - Subject 0 - Time interval: [20-460]  [20-460 Hz] - Epoch 182: TrL=0.0988, TrA=0.9742, VL=11.7545, VA=0.2873, TeL=11.6090, TeA=0.2858, TeA at max VA = 0.2913 at epoch 42\n",
            "Model: syncnet - Subject 0 - Time interval: [20-460]  [20-460 Hz] - Epoch 183: TrL=0.2447, TrA=0.9468, VL=11.9394, VA=0.2858, TeL=12.0485, TeA=0.2742, TeA at max VA = 0.2913 at epoch 42\n",
            "Model: syncnet - Subject 0 - Time interval: [20-460]  [20-460 Hz] - Epoch 184: TrL=0.1125, TrA=0.9698, VL=11.0780, VA=0.3054, TeL=10.9929, TeA=0.2913, TeA at max VA = 0.2913 at epoch 42\n",
            "Model: syncnet - Subject 0 - Time interval: [20-460]  [20-460 Hz] - Epoch 185: TrL=0.1820, TrA=0.9559, VL=12.6507, VA=0.2893, TeL=12.8509, TeA=0.2661, TeA at max VA = 0.2913 at epoch 42\n",
            "Model: syncnet - Subject 0 - Time interval: [20-460]  [20-460 Hz] - Epoch 186: TrL=0.1848, TrA=0.9562, VL=11.9298, VA=0.3075, TeL=12.2482, TeA=0.2540, TeA at max VA = 0.2913 at epoch 42\n",
            "Model: syncnet - Subject 0 - Time interval: [20-460]  [20-460 Hz] - Epoch 187: TrL=0.1821, TrA=0.9574, VL=11.3704, VA=0.3105, TeL=11.5924, TeA=0.2974, TeA at max VA = 0.2913 at epoch 42\n",
            "Model: syncnet - Subject 0 - Time interval: [20-460]  [20-460 Hz] - Epoch 188: TrL=0.0398, TrA=0.9873, VL=11.6663, VA=0.3115, TeL=11.7419, TeA=0.2848, TeA at max VA = 0.2913 at epoch 42\n",
            "Model: syncnet - Subject 0 - Time interval: [20-460]  [20-460 Hz] - Epoch 189: TrL=0.3088, TrA=0.9347, VL=12.0258, VA=0.2908, TeL=12.1326, TeA=0.2823, TeA at max VA = 0.2913 at epoch 42\n",
            "Model: syncnet - Subject 0 - Time interval: [20-460]  [20-460 Hz] - Epoch 190: TrL=0.1847, TrA=0.9496, VL=11.6838, VA=0.3014, TeL=11.5285, TeA=0.2999, TeA at max VA = 0.2913 at epoch 42\n",
            "Model: syncnet - Subject 0 - Time interval: [20-460]  [20-460 Hz] - Epoch 191: TrL=0.1142, TrA=0.9703, VL=12.3523, VA=0.2863, TeL=12.6057, TeA=0.2641, TeA at max VA = 0.2913 at epoch 42\n",
            "Model: syncnet - Subject 0 - Time interval: [20-460]  [20-460 Hz] - Epoch 192: TrL=0.1316, TrA=0.9677, VL=11.9936, VA=0.3049, TeL=12.1430, TeA=0.2913, TeA at max VA = 0.2913 at epoch 42\n",
            "Model: syncnet - Subject 0 - Time interval: [20-460]  [20-460 Hz] - Epoch 193: TrL=0.2336, TrA=0.9492, VL=12.3072, VA=0.3019, TeL=12.1220, TeA=0.2843, TeA at max VA = 0.2913 at epoch 42\n",
            "Model: syncnet - Subject 0 - Time interval: [20-460]  [20-460 Hz] - Epoch 194: TrL=0.1428, TrA=0.9660, VL=11.8978, VA=0.3095, TeL=12.1841, TeA=0.2777, TeA at max VA = 0.2913 at epoch 42\n",
            "Model: syncnet - Subject 0 - Time interval: [20-460]  [20-460 Hz] - Epoch 195: TrL=0.2172, TrA=0.9508, VL=12.2418, VA=0.2954, TeL=12.0165, TeA=0.2903, TeA at max VA = 0.2913 at epoch 42\n",
            "Model: syncnet - Subject 0 - Time interval: [20-460]  [20-460 Hz] - Epoch 196: TrL=0.1874, TrA=0.9551, VL=12.2308, VA=0.2939, TeL=12.2508, TeA=0.2712, TeA at max VA = 0.2913 at epoch 42\n",
            "Model: syncnet - Subject 0 - Time interval: [20-460]  [20-460 Hz] - Epoch 197: TrL=0.1059, TrA=0.9726, VL=11.7999, VA=0.3095, TeL=11.7312, TeA=0.3044, TeA at max VA = 0.2913 at epoch 42\n",
            "Model: syncnet - Subject 0 - Time interval: [20-460]  [20-460 Hz] - Epoch 198: TrL=0.0974, TrA=0.9803, VL=12.9081, VA=0.2843, TeL=13.0670, TeA=0.2772, TeA at max VA = 0.2913 at epoch 42\n",
            "Model: syncnet - Subject 0 - Time interval: [20-460]  [20-460 Hz] - Epoch 199: TrL=0.2851, TrA=0.9323, VL=12.0966, VA=0.3009, TeL=11.6173, TeA=0.2959, TeA at max VA = 0.2913 at epoch 42\n"
          ],
          "name": "stdout"
        }
      ]
    },
    {
      "cell_type": "code",
      "metadata": {
        "id": "aGJTPTgqH_lT"
      },
      "source": [
        ""
      ],
      "execution_count": 5,
      "outputs": []
    }
  ]
}