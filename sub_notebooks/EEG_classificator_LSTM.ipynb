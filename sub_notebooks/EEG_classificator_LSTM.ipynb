{
  "nbformat": 4,
  "nbformat_minor": 0,
  "metadata": {
    "colab": {
      "name": "EEG_classificator_LSTM.ipynb",
      "provenance": [],
      "collapsed_sections": [],
      "authorship_tag": "ABX9TyP5spEMuwhIs+qLSPGXdvvQ",
      "include_colab_link": true
    },
    "kernelspec": {
      "name": "python3",
      "display_name": "Python 3"
    },
    "accelerator": "GPU"
  },
  "cells": [
    {
      "cell_type": "markdown",
      "metadata": {
        "id": "view-in-github",
        "colab_type": "text"
      },
      "source": [
        "<a href=\"https://colab.research.google.com/github/Gooogr/Brain2Image/blob/master/sub_notebooks/EEG_classificator_LSTM.ipynb\" target=\"_parent\"><img src=\"https://colab.research.google.com/assets/colab-badge.svg\" alt=\"Open In Colab\"/></a>"
      ]
    },
    {
      "cell_type": "markdown",
      "metadata": {
        "id": "iiGT8JJIzJuQ",
        "colab_type": "text"
      },
      "source": [
        "Link to percivelab files:<br>\n",
        "http://perceive.dieei.unict.it/files/\n",
        "\n",
        "Link to LSTM script from the article:<br>\n",
        "http://perceive.dieei.unict.it/files/cvpr_2017_eeg_encoder.py"
      ]
    },
    {
      "cell_type": "code",
      "metadata": {
        "id": "DKYOIw9rWc5O",
        "colab_type": "code",
        "colab": {
          "base_uri": "https://localhost:8080/",
          "height": 34
        },
        "outputId": "e6311864-c1e4-4034-f805-ee1e68377dd6"
      },
      "source": [
        "from google.colab import drive\n",
        "drive.mount(\"/content/drive\", force_remount=True)\n",
        "! ln -s \"/content/drive/My Drive\" \"/content/mydrive\""
      ],
      "execution_count": null,
      "outputs": [
        {
          "output_type": "stream",
          "text": [
            "Mounted at /content/drive\n"
          ],
          "name": "stdout"
        }
      ]
    },
    {
      "cell_type": "code",
      "metadata": {
        "id": "XCDFkThmW-4H",
        "colab_type": "code",
        "colab": {}
      },
      "source": [
        "DATASET_PATH = '/content/mydrive/EEG2Image_research/Datasets/perceive_lab/eeg_signals_128_sequential_band_all_with_mean_std.pth'\n",
        "SPLIT_PATH = '/content/mydrive/EEG2Image_research/Datasets/perceive_lab/block_splits_by_image.pth'"
      ],
      "execution_count": null,
      "outputs": []
    },
    {
      "cell_type": "code",
      "metadata": {
        "id": "UUsi8b9xXqkC",
        "colab_type": "code",
        "colab": {
          "base_uri": "https://localhost:8080/",
          "height": 34
        },
        "outputId": "4b692ea0-651b-4903-b395-585a38d98102"
      },
      "source": [
        "% cd /content/mydrive/EEG2Image_research/Scripts/"
      ],
      "execution_count": null,
      "outputs": [
        {
          "output_type": "stream",
          "text": [
            "/content/drive/My Drive/EEG2Image_research/Scripts\n"
          ],
          "name": "stdout"
        }
      ]
    },
    {
      "cell_type": "code",
      "metadata": {
        "id": "M6VIPdEDXsuf",
        "colab_type": "code",
        "colab": {
          "base_uri": "https://localhost:8080/",
          "height": 781
        },
        "outputId": "316f08e7-7eab-4d12-cb43-be501874f7bc"
      },
      "source": [
        "!python3 cvpr_2017_eeg_encoder.py --help"
      ],
      "execution_count": null,
      "outputs": [
        {
          "output_type": "stream",
          "text": [
            "usage: cvpr_2017_eeg_encoder.py [-h] [-ed EEG_DATASET] [-sp SPLITS_PATH]\n",
            "                                [-sn SPLIT_NUM] [-ll LSTM_LAYERS]\n",
            "                                [-ls LSTM_SIZE] [-es EMBEDDING_SIZE]\n",
            "                                [-nc NUM_CLASSES] [-filt FILTERING]\n",
            "                                [-b BATCH_SIZE] [-o OPTIM] [-lr LEARNING_RATE]\n",
            "                                [-lrdb LEARNING_RATE_DECAY_BY]\n",
            "                                [-lrde LEARNING_RATE_DECAY_EVERY] [-e EPOCHS]\n",
            "                                [-dw DATA_WORKERS] [--no-cuda]\n",
            "\n",
            "Template\n",
            "\n",
            "optional arguments:\n",
            "  -h, --help            show this help message and exit\n",
            "  -ed EEG_DATASET, --eeg-dataset EEG_DATASET\n",
            "                        EEG dataset path\n",
            "  -sp SPLITS_PATH, --splits-path SPLITS_PATH\n",
            "                        splits path\n",
            "  -sn SPLIT_NUM, --split-num SPLIT_NUM\n",
            "                        split number\n",
            "  -ll LSTM_LAYERS, --lstm-layers LSTM_LAYERS\n",
            "                        LSTM layers\n",
            "  -ls LSTM_SIZE, --lstm-size LSTM_SIZE\n",
            "                        LSTM hidden size\n",
            "  -es EMBEDDING_SIZE, --embedding-size EMBEDDING_SIZE\n",
            "                        embedding size\n",
            "  -nc NUM_CLASSES, --num-classes NUM_CLASSES\n",
            "                        num classes\n",
            "  -filt FILTERING, --filtering FILTERING\n",
            "                        filter your data\n",
            "  -b BATCH_SIZE, --batch_size BATCH_SIZE\n",
            "                        batch size\n",
            "  -o OPTIM, --optim OPTIM\n",
            "                        optimizer\n",
            "  -lr LEARNING_RATE, --learning-rate LEARNING_RATE\n",
            "                        learning rate\n",
            "  -lrdb LEARNING_RATE_DECAY_BY, --learning-rate-decay-by LEARNING_RATE_DECAY_BY\n",
            "                        learning rate decay factor\n",
            "  -lrde LEARNING_RATE_DECAY_EVERY, --learning-rate-decay-every LEARNING_RATE_DECAY_EVERY\n",
            "                        learning rate decay period\n",
            "  -e EPOCHS, --epochs EPOCHS\n",
            "                        training epochs\n",
            "  -dw DATA_WORKERS, --data-workers DATA_WORKERS\n",
            "                        data loading workers\n",
            "  --no-cuda             disable CUDA\n"
          ],
          "name": "stdout"
        }
      ]
    },
    {
      "cell_type": "code",
      "metadata": {
        "id": "RIYQV40SXz6z",
        "colab_type": "code",
        "colab": {}
      },
      "source": [
        "!python3 cvpr_2017_eeg_encoder.py -ed $DATASET_PATH -sp $SPLIT_PATH"
      ],
      "execution_count": null,
      "outputs": []
    },
    {
      "cell_type": "code",
      "metadata": {
        "id": "sVOvZJwQYXGR",
        "colab_type": "code",
        "colab": {}
      },
      "source": [
        ""
      ],
      "execution_count": null,
      "outputs": []
    }
  ]
}